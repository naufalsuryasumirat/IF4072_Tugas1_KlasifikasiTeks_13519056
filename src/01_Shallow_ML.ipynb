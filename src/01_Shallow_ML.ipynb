{
 "cells": [
  {
   "cell_type": "markdown",
   "id": "e49e64bc",
   "metadata": {},
   "source": [
    "# Shallow ML Text Classification"
   ]
  },
  {
   "cell_type": "markdown",
   "id": "4157a675",
   "metadata": {},
   "source": [
    "## Importing Libraries"
   ]
  },
  {
   "cell_type": "code",
   "execution_count": 1,
   "metadata": {},
   "outputs": [],
   "source": [
    "from typing import List"
   ]
  },
  {
   "cell_type": "code",
   "execution_count": 2,
   "id": "b4db30b1",
   "metadata": {},
   "outputs": [],
   "source": [
    "import re\n",
    "import numpy as np\n",
    "import pandas as pd\n",
    "import itertools\n",
    "import matplotlib.pyplot as plt"
   ]
  },
  {
   "cell_type": "code",
   "execution_count": 3,
   "id": "247c0b81",
   "metadata": {},
   "outputs": [],
   "source": [
    "from nltk import pos_tag\n",
    "from nltk.stem import PorterStemmer, SnowballStemmer\n",
    "from nltk.corpus import stopwords\n",
    "from nltk.tokenize import word_tokenize\n",
    "from scipy.sparse import hstack\n",
    "from sklearn.svm import SVC\n",
    "from sklearn.metrics import accuracy_score, precision_recall_fscore_support, confusion_matrix\n",
    "from sklearn.naive_bayes import MultinomialNB\n",
    "from imblearn.over_sampling import RandomOverSampler\n",
    "from sklearn.feature_extraction.text import CountVectorizer, TfidfVectorizer\n",
    "from Sastrawi.Stemmer.StemmerFactory import StemmerFactory\n",
    "from Sastrawi.StopWordRemover.StopWordRemoverFactory import StopWordRemoverFactory"
   ]
  },
  {
   "cell_type": "markdown",
   "id": "305d8400",
   "metadata": {},
   "source": [
    "## Load Training Data"
   ]
  },
  {
   "cell_type": "code",
   "execution_count": 4,
   "id": "7ee2681f",
   "metadata": {},
   "outputs": [],
   "source": [
    "df_train = pd.read_csv('../data/train.csv')[['text_a','label']] # drop row numbers column\n",
    "df_test = pd.read_csv('../data/test.csv')\n",
    "df_validate = pd.read_csv('../data/dev.csv')"
   ]
  },
  {
   "cell_type": "markdown",
   "id": "f0abf04c",
   "metadata": {},
   "source": [
    "## Stopwords definition"
   ]
  },
  {
   "cell_type": "code",
   "execution_count": 5,
   "id": "48fa6fbc",
   "metadata": {},
   "outputs": [
    {
     "name": "stdout",
     "output_type": "stream",
     "text": [
      "sastrawi stopwords: 123\n",
      "nltk stopwords: 9380\n",
      "nltk added stopwords: 9395\n"
     ]
    }
   ],
   "source": [
    "# add stopwords\n",
    "add_stopwords = set(StopWordRemoverFactory().get_stop_words())\n",
    "print('sastrawi stopwords:', len(add_stopwords))\n",
    "\n",
    "stopwords_set = set(stopwords.words())\n",
    "print('nltk stopwords:', len(stopwords_set))\n",
    "stopwords_set = stopwords_set.union(add_stopwords)\n",
    "print('nltk added stopwords:', len(stopwords_set))"
   ]
  },
  {
   "cell_type": "markdown",
   "id": "1a12d4c8",
   "metadata": {},
   "source": [
    "## Function to preprocess/normalize text"
   ]
  },
  {
   "cell_type": "code",
   "execution_count": 6,
   "id": "69e413ba",
   "metadata": {},
   "outputs": [],
   "source": [
    "stemmer = StemmerFactory().create_stemmer()"
   ]
  },
  {
   "cell_type": "code",
   "execution_count": 7,
   "id": "2b8e996b",
   "metadata": {},
   "outputs": [],
   "source": [
    "def normalize_text(string: str, stem: bool=True, sw_elim: bool=True) -> List[str]:\n",
    "  # filtering, only characters allowed\n",
    "  filtered = re.sub('[^a-zA-Z]', ' ', string)\n",
    "  # lower-cased and stemmed using Sastrawi\n",
    "  stemmed = stemmer.stem(filtered) if stem else filtered.lower()\n",
    "  # tokenize stemmed string\n",
    "  tokenized = word_tokenize(stemmed)\n",
    "  # eliminate stopwords\n",
    "  res = [word for word in tokenized if word not in stopwords_set] if sw_elim else tokenized\n",
    "  return res"
   ]
  },
  {
   "cell_type": "markdown",
   "id": "829d7e09",
   "metadata": {},
   "source": [
    "## DataFrame before Preprocessing"
   ]
  },
  {
   "cell_type": "code",
   "execution_count": 8,
   "id": "010e2b20",
   "metadata": {},
   "outputs": [
    {
     "data": {
      "text/html": [
       "<div>\n",
       "<style scoped>\n",
       "    .dataframe tbody tr th:only-of-type {\n",
       "        vertical-align: middle;\n",
       "    }\n",
       "\n",
       "    .dataframe tbody tr th {\n",
       "        vertical-align: top;\n",
       "    }\n",
       "\n",
       "    .dataframe thead th {\n",
       "        text-align: right;\n",
       "    }\n",
       "</style>\n",
       "<table border=\"1\" class=\"dataframe\">\n",
       "  <thead>\n",
       "    <tr style=\"text-align: right;\">\n",
       "      <th></th>\n",
       "      <th>text_a</th>\n",
       "      <th>label</th>\n",
       "    </tr>\n",
       "  </thead>\n",
       "  <tbody>\n",
       "    <tr>\n",
       "      <th>0</th>\n",
       "      <td>betewe buka twitter cuman ngetweet liat home b...</td>\n",
       "      <td>no</td>\n",
       "    </tr>\n",
       "    <tr>\n",
       "      <th>1</th>\n",
       "      <td>mas piyuuu mugo2 corona tuh mulut tersumpal ma...</td>\n",
       "      <td>no</td>\n",
       "    </tr>\n",
       "    <tr>\n",
       "      <th>2</th>\n",
       "      <td>e100ss gini buka informasi sejelas nya identit...</td>\n",
       "      <td>yes</td>\n",
       "    </tr>\n",
       "    <tr>\n",
       "      <th>3</th>\n",
       "      <td>neng solo wes ono terduga corona cobo neng ati...</td>\n",
       "      <td>no</td>\n",
       "    </tr>\n",
       "    <tr>\n",
       "      <th>4</th>\n",
       "      <td>midiahn nii akun gak takut takut nya isu coron...</td>\n",
       "      <td>no</td>\n",
       "    </tr>\n",
       "  </tbody>\n",
       "</table>\n",
       "</div>"
      ],
      "text/plain": [
       "                                              text_a label\n",
       "0  betewe buka twitter cuman ngetweet liat home b...    no\n",
       "1  mas piyuuu mugo2 corona tuh mulut tersumpal ma...    no\n",
       "2  e100ss gini buka informasi sejelas nya identit...   yes\n",
       "3  neng solo wes ono terduga corona cobo neng ati...    no\n",
       "4  midiahn nii akun gak takut takut nya isu coron...    no"
      ]
     },
     "execution_count": 8,
     "metadata": {},
     "output_type": "execute_result"
    }
   ],
   "source": [
    "df_train.head()"
   ]
  },
  {
   "cell_type": "code",
   "execution_count": 9,
   "id": "96194ecc",
   "metadata": {},
   "outputs": [
    {
     "data": {
      "text/html": [
       "<div>\n",
       "<style scoped>\n",
       "    .dataframe tbody tr th:only-of-type {\n",
       "        vertical-align: middle;\n",
       "    }\n",
       "\n",
       "    .dataframe tbody tr th {\n",
       "        vertical-align: top;\n",
       "    }\n",
       "\n",
       "    .dataframe thead th {\n",
       "        text-align: right;\n",
       "    }\n",
       "</style>\n",
       "<table border=\"1\" class=\"dataframe\">\n",
       "  <thead>\n",
       "    <tr style=\"text-align: right;\">\n",
       "      <th></th>\n",
       "      <th>text_a</th>\n",
       "      <th>label</th>\n",
       "    </tr>\n",
       "  </thead>\n",
       "  <tbody>\n",
       "    <tr>\n",
       "      <th>0</th>\n",
       "      <td>jek dajal ga depok bang</td>\n",
       "      <td>no</td>\n",
       "    </tr>\n",
       "    <tr>\n",
       "      <th>1</th>\n",
       "      <td>detikcom untung depok masuk wilayah nya ridwan...</td>\n",
       "      <td>no</td>\n",
       "    </tr>\n",
       "    <tr>\n",
       "      <th>2</th>\n",
       "      <td>df dom jakarta depok yg gunain vc cabang nya c...</td>\n",
       "      <td>no</td>\n",
       "    </tr>\n",
       "    <tr>\n",
       "      <th>3</th>\n",
       "      <td>your2rl depok jkt</td>\n",
       "      <td>no</td>\n",
       "    </tr>\n",
       "    <tr>\n",
       "      <th>4</th>\n",
       "      <td>doakan indonesia selamat virus corona pkb depo...</td>\n",
       "      <td>yes</td>\n",
       "    </tr>\n",
       "  </tbody>\n",
       "</table>\n",
       "</div>"
      ],
      "text/plain": [
       "                                              text_a label\n",
       "0                            jek dajal ga depok bang    no\n",
       "1  detikcom untung depok masuk wilayah nya ridwan...    no\n",
       "2  df dom jakarta depok yg gunain vc cabang nya c...    no\n",
       "3                                  your2rl depok jkt    no\n",
       "4  doakan indonesia selamat virus corona pkb depo...   yes"
      ]
     },
     "execution_count": 9,
     "metadata": {},
     "output_type": "execute_result"
    }
   ],
   "source": [
    "df_test.head()"
   ]
  },
  {
   "cell_type": "code",
   "execution_count": 10,
   "id": "90a021a3",
   "metadata": {},
   "outputs": [
    {
     "data": {
      "text/html": [
       "<div>\n",
       "<style scoped>\n",
       "    .dataframe tbody tr th:only-of-type {\n",
       "        vertical-align: middle;\n",
       "    }\n",
       "\n",
       "    .dataframe tbody tr th {\n",
       "        vertical-align: top;\n",
       "    }\n",
       "\n",
       "    .dataframe thead th {\n",
       "        text-align: right;\n",
       "    }\n",
       "</style>\n",
       "<table border=\"1\" class=\"dataframe\">\n",
       "  <thead>\n",
       "    <tr style=\"text-align: right;\">\n",
       "      <th></th>\n",
       "      <th>text_a</th>\n",
       "      <th>label</th>\n",
       "    </tr>\n",
       "  </thead>\n",
       "  <tbody>\n",
       "    <tr>\n",
       "      <th>0</th>\n",
       "      <td>jek dajal ga depok bang</td>\n",
       "      <td>no</td>\n",
       "    </tr>\n",
       "    <tr>\n",
       "      <th>1</th>\n",
       "      <td>detikcom untung depok masuk wilayah nya ridwan...</td>\n",
       "      <td>no</td>\n",
       "    </tr>\n",
       "    <tr>\n",
       "      <th>2</th>\n",
       "      <td>df dom jakarta depok yg gunain vc cabang nya c...</td>\n",
       "      <td>no</td>\n",
       "    </tr>\n",
       "    <tr>\n",
       "      <th>3</th>\n",
       "      <td>your2rl depok jkt</td>\n",
       "      <td>no</td>\n",
       "    </tr>\n",
       "    <tr>\n",
       "      <th>4</th>\n",
       "      <td>doakan indonesia selamat virus corona pkb depo...</td>\n",
       "      <td>yes</td>\n",
       "    </tr>\n",
       "  </tbody>\n",
       "</table>\n",
       "</div>"
      ],
      "text/plain": [
       "                                              text_a label\n",
       "0                            jek dajal ga depok bang    no\n",
       "1  detikcom untung depok masuk wilayah nya ridwan...    no\n",
       "2  df dom jakarta depok yg gunain vc cabang nya c...    no\n",
       "3                                  your2rl depok jkt    no\n",
       "4  doakan indonesia selamat virus corona pkb depo...   yes"
      ]
     },
     "execution_count": 10,
     "metadata": {},
     "output_type": "execute_result"
    }
   ],
   "source": [
    "df_validate.head()"
   ]
  },
  {
   "cell_type": "markdown",
   "id": "748d6d07",
   "metadata": {},
   "source": [
    "## Proprocess DataFrame"
   ]
  },
  {
   "cell_type": "code",
   "execution_count": 11,
   "id": "64e8dad5",
   "metadata": {},
   "outputs": [],
   "source": [
    "df_train.text_a = df_train.text_a.apply(normalize_text, args=(False, True))\n",
    "df_test.text_a = df_test.text_a.apply(normalize_text, args=(False, True))\n",
    "df_validate.text_a = df_validate.text_a.apply(normalize_text, args=(False, True))"
   ]
  },
  {
   "cell_type": "markdown",
   "id": "5183e373",
   "metadata": {},
   "source": [
    "## DataFrame after Preprocessing"
   ]
  },
  {
   "cell_type": "code",
   "execution_count": 12,
   "id": "3e4aed89",
   "metadata": {},
   "outputs": [
    {
     "data": {
      "text/html": [
       "<div>\n",
       "<style scoped>\n",
       "    .dataframe tbody tr th:only-of-type {\n",
       "        vertical-align: middle;\n",
       "    }\n",
       "\n",
       "    .dataframe tbody tr th {\n",
       "        vertical-align: top;\n",
       "    }\n",
       "\n",
       "    .dataframe thead th {\n",
       "        text-align: right;\n",
       "    }\n",
       "</style>\n",
       "<table border=\"1\" class=\"dataframe\">\n",
       "  <thead>\n",
       "    <tr style=\"text-align: right;\">\n",
       "      <th></th>\n",
       "      <th>text_a</th>\n",
       "      <th>label</th>\n",
       "    </tr>\n",
       "  </thead>\n",
       "  <tbody>\n",
       "    <tr>\n",
       "      <th>0</th>\n",
       "      <td>[betewe, buka, twitter, cuman, ngetweet, liat,...</td>\n",
       "      <td>no</td>\n",
       "    </tr>\n",
       "    <tr>\n",
       "      <th>1</th>\n",
       "      <td>[piyuuu, mugo, corona, tuh, mulut, tersumpal, ...</td>\n",
       "      <td>no</td>\n",
       "    </tr>\n",
       "    <tr>\n",
       "      <th>2</th>\n",
       "      <td>[ss, gini, buka, informasi, sejelas, nya, iden...</td>\n",
       "      <td>yes</td>\n",
       "    </tr>\n",
       "    <tr>\n",
       "      <th>3</th>\n",
       "      <td>[neng, solo, wes, terduga, corona, cobo, neng,...</td>\n",
       "      <td>no</td>\n",
       "    </tr>\n",
       "    <tr>\n",
       "      <th>4</th>\n",
       "      <td>[midiahn, nii, akun, gak, takut, takut, nya, i...</td>\n",
       "      <td>no</td>\n",
       "    </tr>\n",
       "  </tbody>\n",
       "</table>\n",
       "</div>"
      ],
      "text/plain": [
       "                                              text_a label\n",
       "0  [betewe, buka, twitter, cuman, ngetweet, liat,...    no\n",
       "1  [piyuuu, mugo, corona, tuh, mulut, tersumpal, ...    no\n",
       "2  [ss, gini, buka, informasi, sejelas, nya, iden...   yes\n",
       "3  [neng, solo, wes, terduga, corona, cobo, neng,...    no\n",
       "4  [midiahn, nii, akun, gak, takut, takut, nya, i...    no"
      ]
     },
     "execution_count": 12,
     "metadata": {},
     "output_type": "execute_result"
    }
   ],
   "source": [
    "df_train.head()"
   ]
  },
  {
   "cell_type": "code",
   "execution_count": 13,
   "id": "173af7d3",
   "metadata": {},
   "outputs": [
    {
     "data": {
      "text/html": [
       "<div>\n",
       "<style scoped>\n",
       "    .dataframe tbody tr th:only-of-type {\n",
       "        vertical-align: middle;\n",
       "    }\n",
       "\n",
       "    .dataframe tbody tr th {\n",
       "        vertical-align: top;\n",
       "    }\n",
       "\n",
       "    .dataframe thead th {\n",
       "        text-align: right;\n",
       "    }\n",
       "</style>\n",
       "<table border=\"1\" class=\"dataframe\">\n",
       "  <thead>\n",
       "    <tr style=\"text-align: right;\">\n",
       "      <th></th>\n",
       "      <th>text_a</th>\n",
       "      <th>label</th>\n",
       "    </tr>\n",
       "  </thead>\n",
       "  <tbody>\n",
       "    <tr>\n",
       "      <th>0</th>\n",
       "      <td>[jek, dajal, depok, bang]</td>\n",
       "      <td>no</td>\n",
       "    </tr>\n",
       "    <tr>\n",
       "      <th>1</th>\n",
       "      <td>[detikcom, untung, depok, masuk, wilayah, nya,...</td>\n",
       "      <td>no</td>\n",
       "    </tr>\n",
       "    <tr>\n",
       "      <th>2</th>\n",
       "      <td>[df, dom, jakarta, depok, yg, gunain, vc, caba...</td>\n",
       "      <td>no</td>\n",
       "    </tr>\n",
       "    <tr>\n",
       "      <th>3</th>\n",
       "      <td>[rl, depok, jkt]</td>\n",
       "      <td>no</td>\n",
       "    </tr>\n",
       "    <tr>\n",
       "      <th>4</th>\n",
       "      <td>[doakan, indonesia, selamat, virus, corona, pk...</td>\n",
       "      <td>yes</td>\n",
       "    </tr>\n",
       "  </tbody>\n",
       "</table>\n",
       "</div>"
      ],
      "text/plain": [
       "                                              text_a label\n",
       "0                          [jek, dajal, depok, bang]    no\n",
       "1  [detikcom, untung, depok, masuk, wilayah, nya,...    no\n",
       "2  [df, dom, jakarta, depok, yg, gunain, vc, caba...    no\n",
       "3                                   [rl, depok, jkt]    no\n",
       "4  [doakan, indonesia, selamat, virus, corona, pk...   yes"
      ]
     },
     "execution_count": 13,
     "metadata": {},
     "output_type": "execute_result"
    }
   ],
   "source": [
    "df_test.head()"
   ]
  },
  {
   "cell_type": "code",
   "execution_count": 14,
   "id": "7d63f801",
   "metadata": {},
   "outputs": [
    {
     "data": {
      "text/html": [
       "<div>\n",
       "<style scoped>\n",
       "    .dataframe tbody tr th:only-of-type {\n",
       "        vertical-align: middle;\n",
       "    }\n",
       "\n",
       "    .dataframe tbody tr th {\n",
       "        vertical-align: top;\n",
       "    }\n",
       "\n",
       "    .dataframe thead th {\n",
       "        text-align: right;\n",
       "    }\n",
       "</style>\n",
       "<table border=\"1\" class=\"dataframe\">\n",
       "  <thead>\n",
       "    <tr style=\"text-align: right;\">\n",
       "      <th></th>\n",
       "      <th>text_a</th>\n",
       "      <th>label</th>\n",
       "    </tr>\n",
       "  </thead>\n",
       "  <tbody>\n",
       "    <tr>\n",
       "      <th>0</th>\n",
       "      <td>[jek, dajal, depok, bang]</td>\n",
       "      <td>no</td>\n",
       "    </tr>\n",
       "    <tr>\n",
       "      <th>1</th>\n",
       "      <td>[detikcom, untung, depok, masuk, wilayah, nya,...</td>\n",
       "      <td>no</td>\n",
       "    </tr>\n",
       "    <tr>\n",
       "      <th>2</th>\n",
       "      <td>[df, dom, jakarta, depok, yg, gunain, vc, caba...</td>\n",
       "      <td>no</td>\n",
       "    </tr>\n",
       "    <tr>\n",
       "      <th>3</th>\n",
       "      <td>[rl, depok, jkt]</td>\n",
       "      <td>no</td>\n",
       "    </tr>\n",
       "    <tr>\n",
       "      <th>4</th>\n",
       "      <td>[doakan, indonesia, selamat, virus, corona, pk...</td>\n",
       "      <td>yes</td>\n",
       "    </tr>\n",
       "  </tbody>\n",
       "</table>\n",
       "</div>"
      ],
      "text/plain": [
       "                                              text_a label\n",
       "0                          [jek, dajal, depok, bang]    no\n",
       "1  [detikcom, untung, depok, masuk, wilayah, nya,...    no\n",
       "2  [df, dom, jakarta, depok, yg, gunain, vc, caba...    no\n",
       "3                                   [rl, depok, jkt]    no\n",
       "4  [doakan, indonesia, selamat, virus, corona, pk...   yes"
      ]
     },
     "execution_count": 14,
     "metadata": {},
     "output_type": "execute_result"
    }
   ],
   "source": [
    "df_validate.head()"
   ]
  },
  {
   "cell_type": "markdown",
   "id": "7dd6c70f",
   "metadata": {},
   "source": [
    "## Function to score model"
   ]
  },
  {
   "cell_type": "code",
   "execution_count": 86,
   "id": "28b55949",
   "metadata": {},
   "outputs": [],
   "source": [
    "def score_model(true: np.array, pred: np.array, is_svm: bool=True):\n",
    "  model = 'SVM' if is_svm else 'NaiveBayes'\n",
    "  print(f'{model} Model Accuracy Score: {accuracy_score(true, pred):.6f}')\n",
    "  precision, recall, fscore, _ = precision_recall_fscore_support(true, pred, average='macro', zero_division=1)\n",
    "  print(f'{model} Model Precision Score: {precision:.6f}')\n",
    "  print(f'{model} Model Recall Score: {recall:.6f}')\n",
    "  print(f'{model} Model FScore: {fscore:.6f}')\n",
    "  print(f'{model} Model Confusion Matrix')\n",
    "  print(confusion_matrix(true, pred))"
   ]
  },
  {
   "cell_type": "markdown",
   "id": "3509436e",
   "metadata": {},
   "source": [
    "## [Vector Space Model] Vectorizer using CountVectorizer"
   ]
  },
  {
   "cell_type": "code",
   "execution_count": 15,
   "id": "4dc5d867",
   "metadata": {},
   "outputs": [
    {
     "name": "stdout",
     "output_type": "stream",
     "text": [
      "43643\n"
     ]
    }
   ],
   "source": [
    "vectorizer = CountVectorizer(tokenizer=lambda x: x, preprocessor=lambda x: x)\n",
    "X_train, y_train = vectorizer.fit_transform(df_train.text_a), df_train.label\n",
    "X_test, y_test = vectorizer.transform(df_test.text_a), df_test.label\n",
    "X_validate, y_validate = vectorizer.transform(df_validate.text_a), df_validate.label\n",
    "print(len(vectorizer.get_feature_names_out()))"
   ]
  },
  {
   "cell_type": "markdown",
   "id": "38efe9fd",
   "metadata": {},
   "source": [
    "## [Vector Space Model] Vectorizer using TfIdfVectorizer"
   ]
  },
  {
   "cell_type": "code",
   "execution_count": 98,
   "id": "62aa73cd",
   "metadata": {},
   "outputs": [
    {
     "name": "stdout",
     "output_type": "stream",
     "text": [
      "43643\n"
     ]
    }
   ],
   "source": [
    "vectorizer_tf = TfidfVectorizer(tokenizer=lambda x: x, preprocessor=lambda x: x)\n",
    "X_train_tf, y_train_tf = vectorizer_tf.fit_transform(df_train.text_a), df_train.label\n",
    "X_test_tf, y_test_tf = vectorizer_tf.transform(df_test.text_a), df_test.label\n",
    "X_validate_tf, y_validate_tf = vectorizer_tf.transform(df_validate.text_a), df_validate.label\n",
    "print(len(vectorizer_tf.get_feature_names_out()))"
   ]
  },
  {
   "cell_type": "markdown",
   "id": "7037832e",
   "metadata": {},
   "source": [
    "## Linear SVM Model with CountVectorizer Data"
   ]
  },
  {
   "cell_type": "markdown",
   "id": "42a6175e",
   "metadata": {},
   "source": [
    "### Training Linear SVM Model with CountVectorizer Data"
   ]
  },
  {
   "cell_type": "code",
   "execution_count": 16,
   "id": "57bf5254",
   "metadata": {},
   "outputs": [
    {
     "data": {
      "text/html": [
       "<style>#sk-container-id-1 {color: black;background-color: white;}#sk-container-id-1 pre{padding: 0;}#sk-container-id-1 div.sk-toggleable {background-color: white;}#sk-container-id-1 label.sk-toggleable__label {cursor: pointer;display: block;width: 100%;margin-bottom: 0;padding: 0.3em;box-sizing: border-box;text-align: center;}#sk-container-id-1 label.sk-toggleable__label-arrow:before {content: \"▸\";float: left;margin-right: 0.25em;color: #696969;}#sk-container-id-1 label.sk-toggleable__label-arrow:hover:before {color: black;}#sk-container-id-1 div.sk-estimator:hover label.sk-toggleable__label-arrow:before {color: black;}#sk-container-id-1 div.sk-toggleable__content {max-height: 0;max-width: 0;overflow: hidden;text-align: left;background-color: #f0f8ff;}#sk-container-id-1 div.sk-toggleable__content pre {margin: 0.2em;color: black;border-radius: 0.25em;background-color: #f0f8ff;}#sk-container-id-1 input.sk-toggleable__control:checked~div.sk-toggleable__content {max-height: 200px;max-width: 100%;overflow: auto;}#sk-container-id-1 input.sk-toggleable__control:checked~label.sk-toggleable__label-arrow:before {content: \"▾\";}#sk-container-id-1 div.sk-estimator input.sk-toggleable__control:checked~label.sk-toggleable__label {background-color: #d4ebff;}#sk-container-id-1 div.sk-label input.sk-toggleable__control:checked~label.sk-toggleable__label {background-color: #d4ebff;}#sk-container-id-1 input.sk-hidden--visually {border: 0;clip: rect(1px 1px 1px 1px);clip: rect(1px, 1px, 1px, 1px);height: 1px;margin: -1px;overflow: hidden;padding: 0;position: absolute;width: 1px;}#sk-container-id-1 div.sk-estimator {font-family: monospace;background-color: #f0f8ff;border: 1px dotted black;border-radius: 0.25em;box-sizing: border-box;margin-bottom: 0.5em;}#sk-container-id-1 div.sk-estimator:hover {background-color: #d4ebff;}#sk-container-id-1 div.sk-parallel-item::after {content: \"\";width: 100%;border-bottom: 1px solid gray;flex-grow: 1;}#sk-container-id-1 div.sk-label:hover label.sk-toggleable__label {background-color: #d4ebff;}#sk-container-id-1 div.sk-serial::before {content: \"\";position: absolute;border-left: 1px solid gray;box-sizing: border-box;top: 0;bottom: 0;left: 50%;z-index: 0;}#sk-container-id-1 div.sk-serial {display: flex;flex-direction: column;align-items: center;background-color: white;padding-right: 0.2em;padding-left: 0.2em;position: relative;}#sk-container-id-1 div.sk-item {position: relative;z-index: 1;}#sk-container-id-1 div.sk-parallel {display: flex;align-items: stretch;justify-content: center;background-color: white;position: relative;}#sk-container-id-1 div.sk-item::before, #sk-container-id-1 div.sk-parallel-item::before {content: \"\";position: absolute;border-left: 1px solid gray;box-sizing: border-box;top: 0;bottom: 0;left: 50%;z-index: -1;}#sk-container-id-1 div.sk-parallel-item {display: flex;flex-direction: column;z-index: 1;position: relative;background-color: white;}#sk-container-id-1 div.sk-parallel-item:first-child::after {align-self: flex-end;width: 50%;}#sk-container-id-1 div.sk-parallel-item:last-child::after {align-self: flex-start;width: 50%;}#sk-container-id-1 div.sk-parallel-item:only-child::after {width: 0;}#sk-container-id-1 div.sk-dashed-wrapped {border: 1px dashed gray;margin: 0 0.4em 0.5em 0.4em;box-sizing: border-box;padding-bottom: 0.4em;background-color: white;}#sk-container-id-1 div.sk-label label {font-family: monospace;font-weight: bold;display: inline-block;line-height: 1.2em;}#sk-container-id-1 div.sk-label-container {text-align: center;}#sk-container-id-1 div.sk-container {/* jupyter's `normalize.less` sets `[hidden] { display: none; }` but bootstrap.min.css set `[hidden] { display: none !important; }` so we also need the `!important` here to be able to override the default hidden behavior on the sphinx rendered scikit-learn.org. See: https://github.com/scikit-learn/scikit-learn/issues/21755 */display: inline-block !important;position: relative;}#sk-container-id-1 div.sk-text-repr-fallback {display: none;}</style><div id=\"sk-container-id-1\" class=\"sk-top-container\"><div class=\"sk-text-repr-fallback\"><pre>SVC(gamma=&#x27;auto&#x27;, kernel=&#x27;linear&#x27;)</pre><b>In a Jupyter environment, please rerun this cell to show the HTML representation or trust the notebook. <br />On GitHub, the HTML representation is unable to render, please try loading this page with nbviewer.org.</b></div><div class=\"sk-container\" hidden><div class=\"sk-item\"><div class=\"sk-estimator sk-toggleable\"><input class=\"sk-toggleable__control sk-hidden--visually\" id=\"sk-estimator-id-1\" type=\"checkbox\" checked><label for=\"sk-estimator-id-1\" class=\"sk-toggleable__label sk-toggleable__label-arrow\">SVC</label><div class=\"sk-toggleable__content\"><pre>SVC(gamma=&#x27;auto&#x27;, kernel=&#x27;linear&#x27;)</pre></div></div></div></div></div>"
      ],
      "text/plain": [
       "SVC(gamma='auto', kernel='linear')"
      ]
     },
     "execution_count": 16,
     "metadata": {},
     "output_type": "execute_result"
    }
   ],
   "source": [
    "svm_model = SVC(C=1.0, kernel='linear', degree=3, gamma='auto')\n",
    "svm_model.fit(X_train, y_train)"
   ]
  },
  {
   "cell_type": "markdown",
   "id": "e925a467",
   "metadata": {},
   "source": [
    "### Scoring Linear SVM Model with CountVectorizer Data"
   ]
  },
  {
   "cell_type": "code",
   "execution_count": 87,
   "id": "b1eb6fdc",
   "metadata": {},
   "outputs": [
    {
     "name": "stdout",
     "output_type": "stream",
     "text": [
      "SVM Model Accuracy Score: 0.986714\n",
      "SVM Model Precision Score: 0.983475\n",
      "SVM Model Recall Score: 0.983716\n",
      "SVM Model FScore: 0.983595\n",
      "SVM Model Confusion Matrix\n",
      "[[15366   146]\n",
      " [  141  5948]]\n"
     ]
    }
   ],
   "source": [
    "y_pred_train = svm_model.predict(X_train)\n",
    "score_model(y_train, y_pred_train)"
   ]
  },
  {
   "cell_type": "code",
   "execution_count": 19,
   "id": "9cab4dbd",
   "metadata": {},
   "outputs": [
    {
     "name": "stdout",
     "output_type": "stream",
     "text": [
      "SVM Model Accuracy Score: 0.833929\n",
      "SVM Model Precision Score: 0.779125\n",
      "SVM Model Recall Score: 0.801808\n",
      "SVM Model FScore: 0.788916\n",
      "SVM Model Confusion Matrix\n",
      "[[1814  279]\n",
      " [ 186  521]]\n"
     ]
    }
   ],
   "source": [
    "y_pred_test = svm_model.predict(X_test)\n",
    "score_model(y_test, y_pred_test)"
   ]
  },
  {
   "cell_type": "code",
   "execution_count": 20,
   "id": "b4c2d1a5",
   "metadata": {},
   "outputs": [
    {
     "name": "stdout",
     "output_type": "stream",
     "text": [
      "SVM Model Accuracy Score: 0.833929\n",
      "SVM Model Precision Score: 0.779125\n",
      "SVM Model Recall Score: 0.801808\n",
      "SVM Model FScore: 0.788916\n",
      "SVM Model Confusion Matrix\n",
      "[[1814  279]\n",
      " [ 186  521]]\n"
     ]
    }
   ],
   "source": [
    "y_pred_validate = svm_model.predict(X_validate)\n",
    "score_model(y_validate, y_pred_validate)"
   ]
  },
  {
   "cell_type": "markdown",
   "id": "a2fc2aeb",
   "metadata": {},
   "source": [
    "## Linear SVM Model with TFIdfVectorizer Data"
   ]
  },
  {
   "cell_type": "markdown",
   "id": "43fee0df",
   "metadata": {},
   "source": [
    "### Training Linear SVM Model with TFIdfVectorizer Data"
   ]
  },
  {
   "cell_type": "code",
   "execution_count": 99,
   "id": "54eb1ea5",
   "metadata": {},
   "outputs": [
    {
     "data": {
      "text/html": [
       "<style>#sk-container-id-15 {color: black;background-color: white;}#sk-container-id-15 pre{padding: 0;}#sk-container-id-15 div.sk-toggleable {background-color: white;}#sk-container-id-15 label.sk-toggleable__label {cursor: pointer;display: block;width: 100%;margin-bottom: 0;padding: 0.3em;box-sizing: border-box;text-align: center;}#sk-container-id-15 label.sk-toggleable__label-arrow:before {content: \"▸\";float: left;margin-right: 0.25em;color: #696969;}#sk-container-id-15 label.sk-toggleable__label-arrow:hover:before {color: black;}#sk-container-id-15 div.sk-estimator:hover label.sk-toggleable__label-arrow:before {color: black;}#sk-container-id-15 div.sk-toggleable__content {max-height: 0;max-width: 0;overflow: hidden;text-align: left;background-color: #f0f8ff;}#sk-container-id-15 div.sk-toggleable__content pre {margin: 0.2em;color: black;border-radius: 0.25em;background-color: #f0f8ff;}#sk-container-id-15 input.sk-toggleable__control:checked~div.sk-toggleable__content {max-height: 200px;max-width: 100%;overflow: auto;}#sk-container-id-15 input.sk-toggleable__control:checked~label.sk-toggleable__label-arrow:before {content: \"▾\";}#sk-container-id-15 div.sk-estimator input.sk-toggleable__control:checked~label.sk-toggleable__label {background-color: #d4ebff;}#sk-container-id-15 div.sk-label input.sk-toggleable__control:checked~label.sk-toggleable__label {background-color: #d4ebff;}#sk-container-id-15 input.sk-hidden--visually {border: 0;clip: rect(1px 1px 1px 1px);clip: rect(1px, 1px, 1px, 1px);height: 1px;margin: -1px;overflow: hidden;padding: 0;position: absolute;width: 1px;}#sk-container-id-15 div.sk-estimator {font-family: monospace;background-color: #f0f8ff;border: 1px dotted black;border-radius: 0.25em;box-sizing: border-box;margin-bottom: 0.5em;}#sk-container-id-15 div.sk-estimator:hover {background-color: #d4ebff;}#sk-container-id-15 div.sk-parallel-item::after {content: \"\";width: 100%;border-bottom: 1px solid gray;flex-grow: 1;}#sk-container-id-15 div.sk-label:hover label.sk-toggleable__label {background-color: #d4ebff;}#sk-container-id-15 div.sk-serial::before {content: \"\";position: absolute;border-left: 1px solid gray;box-sizing: border-box;top: 0;bottom: 0;left: 50%;z-index: 0;}#sk-container-id-15 div.sk-serial {display: flex;flex-direction: column;align-items: center;background-color: white;padding-right: 0.2em;padding-left: 0.2em;position: relative;}#sk-container-id-15 div.sk-item {position: relative;z-index: 1;}#sk-container-id-15 div.sk-parallel {display: flex;align-items: stretch;justify-content: center;background-color: white;position: relative;}#sk-container-id-15 div.sk-item::before, #sk-container-id-15 div.sk-parallel-item::before {content: \"\";position: absolute;border-left: 1px solid gray;box-sizing: border-box;top: 0;bottom: 0;left: 50%;z-index: -1;}#sk-container-id-15 div.sk-parallel-item {display: flex;flex-direction: column;z-index: 1;position: relative;background-color: white;}#sk-container-id-15 div.sk-parallel-item:first-child::after {align-self: flex-end;width: 50%;}#sk-container-id-15 div.sk-parallel-item:last-child::after {align-self: flex-start;width: 50%;}#sk-container-id-15 div.sk-parallel-item:only-child::after {width: 0;}#sk-container-id-15 div.sk-dashed-wrapped {border: 1px dashed gray;margin: 0 0.4em 0.5em 0.4em;box-sizing: border-box;padding-bottom: 0.4em;background-color: white;}#sk-container-id-15 div.sk-label label {font-family: monospace;font-weight: bold;display: inline-block;line-height: 1.2em;}#sk-container-id-15 div.sk-label-container {text-align: center;}#sk-container-id-15 div.sk-container {/* jupyter's `normalize.less` sets `[hidden] { display: none; }` but bootstrap.min.css set `[hidden] { display: none !important; }` so we also need the `!important` here to be able to override the default hidden behavior on the sphinx rendered scikit-learn.org. See: https://github.com/scikit-learn/scikit-learn/issues/21755 */display: inline-block !important;position: relative;}#sk-container-id-15 div.sk-text-repr-fallback {display: none;}</style><div id=\"sk-container-id-15\" class=\"sk-top-container\"><div class=\"sk-text-repr-fallback\"><pre>SVC(gamma=&#x27;auto&#x27;, kernel=&#x27;linear&#x27;)</pre><b>In a Jupyter environment, please rerun this cell to show the HTML representation or trust the notebook. <br />On GitHub, the HTML representation is unable to render, please try loading this page with nbviewer.org.</b></div><div class=\"sk-container\" hidden><div class=\"sk-item\"><div class=\"sk-estimator sk-toggleable\"><input class=\"sk-toggleable__control sk-hidden--visually\" id=\"sk-estimator-id-15\" type=\"checkbox\" checked><label for=\"sk-estimator-id-15\" class=\"sk-toggleable__label sk-toggleable__label-arrow\">SVC</label><div class=\"sk-toggleable__content\"><pre>SVC(gamma=&#x27;auto&#x27;, kernel=&#x27;linear&#x27;)</pre></div></div></div></div></div>"
      ],
      "text/plain": [
       "SVC(gamma='auto', kernel='linear')"
      ]
     },
     "execution_count": 99,
     "metadata": {},
     "output_type": "execute_result"
    }
   ],
   "source": [
    "svm_model_tf = SVC(C=1.0, kernel='linear', degree=3, gamma='auto')\n",
    "svm_model_tf.fit(X_train_tf, y_train_tf)"
   ]
  },
  {
   "cell_type": "markdown",
   "id": "ebbf0b2d",
   "metadata": {},
   "source": [
    "### Scoring Linear SVM Model with TFIdfVectorizer Data"
   ]
  },
  {
   "cell_type": "code",
   "execution_count": 108,
   "id": "e00fa9e1",
   "metadata": {},
   "outputs": [
    {
     "name": "stdout",
     "output_type": "stream",
     "text": [
      "SVM Model Accuracy Score: 0.952548\n",
      "SVM Model Precision Score: 0.947118\n",
      "SVM Model Recall Score: 0.934588\n",
      "SVM Model FScore: 0.940575\n",
      "SVM Model Confusion Matrix\n",
      "[[15136   376]\n",
      " [  649  5440]]\n"
     ]
    }
   ],
   "source": [
    "y_pred_train_tf = svm_model_tf.predict(X_train_tf)\n",
    "score_model(y_train_tf, y_pred_train_tf)"
   ]
  },
  {
   "cell_type": "code",
   "execution_count": 109,
   "id": "a7e3ba00",
   "metadata": {},
   "outputs": [
    {
     "name": "stdout",
     "output_type": "stream",
     "text": [
      "SVM Model Accuracy Score: 0.853214\n",
      "SVM Model Precision Score: 0.804429\n",
      "SVM Model Recall Score: 0.811429\n",
      "SVM Model FScore: 0.807805\n",
      "SVM Model Confusion Matrix\n",
      "[[1875  218]\n",
      " [ 193  514]]\n"
     ]
    }
   ],
   "source": [
    "y_pred_test_tf = svm_model_tf.predict(X_test_tf)\n",
    "score_model(y_test_tf, y_pred_test_tf)"
   ]
  },
  {
   "cell_type": "code",
   "execution_count": 110,
   "id": "8dfd558c",
   "metadata": {},
   "outputs": [
    {
     "name": "stdout",
     "output_type": "stream",
     "text": [
      "SVM Model Accuracy Score: 0.853214\n",
      "SVM Model Precision Score: 0.804429\n",
      "SVM Model Recall Score: 0.811429\n",
      "SVM Model FScore: 0.807805\n",
      "SVM Model Confusion Matrix\n",
      "[[1875  218]\n",
      " [ 193  514]]\n"
     ]
    }
   ],
   "source": [
    "y_pred_validate_tf = svm_model_tf.predict(X_validate_tf)\n",
    "score_model(y_validate_tf, y_pred_validate_tf)"
   ]
  },
  {
   "cell_type": "markdown",
   "id": "2b79b8c5",
   "metadata": {},
   "source": [
    "## Naive Bayes Model with CountVectorizer Data"
   ]
  },
  {
   "cell_type": "markdown",
   "id": "9b016c25",
   "metadata": {},
   "source": [
    "### Training Naive Bayes Model with CountVectorizer Data"
   ]
  },
  {
   "cell_type": "code",
   "execution_count": 21,
   "id": "44179871",
   "metadata": {},
   "outputs": [
    {
     "data": {
      "text/html": [
       "<style>#sk-container-id-2 {color: black;background-color: white;}#sk-container-id-2 pre{padding: 0;}#sk-container-id-2 div.sk-toggleable {background-color: white;}#sk-container-id-2 label.sk-toggleable__label {cursor: pointer;display: block;width: 100%;margin-bottom: 0;padding: 0.3em;box-sizing: border-box;text-align: center;}#sk-container-id-2 label.sk-toggleable__label-arrow:before {content: \"▸\";float: left;margin-right: 0.25em;color: #696969;}#sk-container-id-2 label.sk-toggleable__label-arrow:hover:before {color: black;}#sk-container-id-2 div.sk-estimator:hover label.sk-toggleable__label-arrow:before {color: black;}#sk-container-id-2 div.sk-toggleable__content {max-height: 0;max-width: 0;overflow: hidden;text-align: left;background-color: #f0f8ff;}#sk-container-id-2 div.sk-toggleable__content pre {margin: 0.2em;color: black;border-radius: 0.25em;background-color: #f0f8ff;}#sk-container-id-2 input.sk-toggleable__control:checked~div.sk-toggleable__content {max-height: 200px;max-width: 100%;overflow: auto;}#sk-container-id-2 input.sk-toggleable__control:checked~label.sk-toggleable__label-arrow:before {content: \"▾\";}#sk-container-id-2 div.sk-estimator input.sk-toggleable__control:checked~label.sk-toggleable__label {background-color: #d4ebff;}#sk-container-id-2 div.sk-label input.sk-toggleable__control:checked~label.sk-toggleable__label {background-color: #d4ebff;}#sk-container-id-2 input.sk-hidden--visually {border: 0;clip: rect(1px 1px 1px 1px);clip: rect(1px, 1px, 1px, 1px);height: 1px;margin: -1px;overflow: hidden;padding: 0;position: absolute;width: 1px;}#sk-container-id-2 div.sk-estimator {font-family: monospace;background-color: #f0f8ff;border: 1px dotted black;border-radius: 0.25em;box-sizing: border-box;margin-bottom: 0.5em;}#sk-container-id-2 div.sk-estimator:hover {background-color: #d4ebff;}#sk-container-id-2 div.sk-parallel-item::after {content: \"\";width: 100%;border-bottom: 1px solid gray;flex-grow: 1;}#sk-container-id-2 div.sk-label:hover label.sk-toggleable__label {background-color: #d4ebff;}#sk-container-id-2 div.sk-serial::before {content: \"\";position: absolute;border-left: 1px solid gray;box-sizing: border-box;top: 0;bottom: 0;left: 50%;z-index: 0;}#sk-container-id-2 div.sk-serial {display: flex;flex-direction: column;align-items: center;background-color: white;padding-right: 0.2em;padding-left: 0.2em;position: relative;}#sk-container-id-2 div.sk-item {position: relative;z-index: 1;}#sk-container-id-2 div.sk-parallel {display: flex;align-items: stretch;justify-content: center;background-color: white;position: relative;}#sk-container-id-2 div.sk-item::before, #sk-container-id-2 div.sk-parallel-item::before {content: \"\";position: absolute;border-left: 1px solid gray;box-sizing: border-box;top: 0;bottom: 0;left: 50%;z-index: -1;}#sk-container-id-2 div.sk-parallel-item {display: flex;flex-direction: column;z-index: 1;position: relative;background-color: white;}#sk-container-id-2 div.sk-parallel-item:first-child::after {align-self: flex-end;width: 50%;}#sk-container-id-2 div.sk-parallel-item:last-child::after {align-self: flex-start;width: 50%;}#sk-container-id-2 div.sk-parallel-item:only-child::after {width: 0;}#sk-container-id-2 div.sk-dashed-wrapped {border: 1px dashed gray;margin: 0 0.4em 0.5em 0.4em;box-sizing: border-box;padding-bottom: 0.4em;background-color: white;}#sk-container-id-2 div.sk-label label {font-family: monospace;font-weight: bold;display: inline-block;line-height: 1.2em;}#sk-container-id-2 div.sk-label-container {text-align: center;}#sk-container-id-2 div.sk-container {/* jupyter's `normalize.less` sets `[hidden] { display: none; }` but bootstrap.min.css set `[hidden] { display: none !important; }` so we also need the `!important` here to be able to override the default hidden behavior on the sphinx rendered scikit-learn.org. See: https://github.com/scikit-learn/scikit-learn/issues/21755 */display: inline-block !important;position: relative;}#sk-container-id-2 div.sk-text-repr-fallback {display: none;}</style><div id=\"sk-container-id-2\" class=\"sk-top-container\"><div class=\"sk-text-repr-fallback\"><pre>MultinomialNB()</pre><b>In a Jupyter environment, please rerun this cell to show the HTML representation or trust the notebook. <br />On GitHub, the HTML representation is unable to render, please try loading this page with nbviewer.org.</b></div><div class=\"sk-container\" hidden><div class=\"sk-item\"><div class=\"sk-estimator sk-toggleable\"><input class=\"sk-toggleable__control sk-hidden--visually\" id=\"sk-estimator-id-2\" type=\"checkbox\" checked><label for=\"sk-estimator-id-2\" class=\"sk-toggleable__label sk-toggleable__label-arrow\">MultinomialNB</label><div class=\"sk-toggleable__content\"><pre>MultinomialNB()</pre></div></div></div></div></div>"
      ],
      "text/plain": [
       "MultinomialNB()"
      ]
     },
     "execution_count": 21,
     "metadata": {},
     "output_type": "execute_result"
    }
   ],
   "source": [
    "nb_model = MultinomialNB()\n",
    "nb_model.fit(X_train, y_train)"
   ]
  },
  {
   "cell_type": "markdown",
   "id": "25fce09e",
   "metadata": {},
   "source": [
    "### Scoring Naive Bayes Model with CountVectorizer Data"
   ]
  },
  {
   "cell_type": "code",
   "execution_count": 22,
   "id": "97ee246f",
   "metadata": {},
   "outputs": [
    {
     "name": "stdout",
     "output_type": "stream",
     "text": [
      "NaiveBayes Model Accuracy Score: 0.906162\n",
      "NaiveBayes Model Precision Score: 0.879836\n",
      "NaiveBayes Model Recall Score: 0.893411\n",
      "NaiveBayes Model FScore: 0.886184\n",
      "NaiveBayes Model Confusion Matrix\n",
      "[[14312  1200]\n",
      " [  827  5262]]\n"
     ]
    }
   ],
   "source": [
    "y_nb_pred_train = nb_model.predict(X_train)\n",
    "score_model(y_train, y_nb_pred_train, False)"
   ]
  },
  {
   "cell_type": "code",
   "execution_count": 23,
   "id": "0901307d",
   "metadata": {},
   "outputs": [
    {
     "name": "stdout",
     "output_type": "stream",
     "text": [
      "NaiveBayes Model Accuracy Score: 0.866071\n",
      "NaiveBayes Model Precision Score: 0.830640\n",
      "NaiveBayes Model Recall Score: 0.802702\n",
      "NaiveBayes Model FScore: 0.815016\n",
      "NaiveBayes Model Confusion Matrix\n",
      "[[1948  145]\n",
      " [ 230  477]]\n"
     ]
    }
   ],
   "source": [
    "y_nb_pred_test = nb_model.predict(X_test)\n",
    "score_model(y_test, y_nb_pred_test, False)"
   ]
  },
  {
   "cell_type": "code",
   "execution_count": 24,
   "id": "e0aa0d48",
   "metadata": {},
   "outputs": [
    {
     "name": "stdout",
     "output_type": "stream",
     "text": [
      "NaiveBayes Model Accuracy Score: 0.866071\n",
      "NaiveBayes Model Precision Score: 0.830640\n",
      "NaiveBayes Model Recall Score: 0.802702\n",
      "NaiveBayes Model FScore: 0.815016\n",
      "NaiveBayes Model Confusion Matrix\n",
      "[[1948  145]\n",
      " [ 230  477]]\n"
     ]
    }
   ],
   "source": [
    "y_nb_pred_validate = nb_model.predict(X_validate)\n",
    "score_model(y_validate, y_nb_pred_validate, False)"
   ]
  },
  {
   "cell_type": "markdown",
   "id": "8649ae01",
   "metadata": {},
   "source": [
    "## Naive Bayes Model with TfIdfVectorizer Data"
   ]
  },
  {
   "cell_type": "markdown",
   "id": "50086354",
   "metadata": {},
   "source": [
    "### Training Naive Bayes Model with TfIdfVectorizer Data"
   ]
  },
  {
   "cell_type": "code",
   "execution_count": 104,
   "id": "6ddfd994",
   "metadata": {},
   "outputs": [
    {
     "data": {
      "text/html": [
       "<style>#sk-container-id-16 {color: black;background-color: white;}#sk-container-id-16 pre{padding: 0;}#sk-container-id-16 div.sk-toggleable {background-color: white;}#sk-container-id-16 label.sk-toggleable__label {cursor: pointer;display: block;width: 100%;margin-bottom: 0;padding: 0.3em;box-sizing: border-box;text-align: center;}#sk-container-id-16 label.sk-toggleable__label-arrow:before {content: \"▸\";float: left;margin-right: 0.25em;color: #696969;}#sk-container-id-16 label.sk-toggleable__label-arrow:hover:before {color: black;}#sk-container-id-16 div.sk-estimator:hover label.sk-toggleable__label-arrow:before {color: black;}#sk-container-id-16 div.sk-toggleable__content {max-height: 0;max-width: 0;overflow: hidden;text-align: left;background-color: #f0f8ff;}#sk-container-id-16 div.sk-toggleable__content pre {margin: 0.2em;color: black;border-radius: 0.25em;background-color: #f0f8ff;}#sk-container-id-16 input.sk-toggleable__control:checked~div.sk-toggleable__content {max-height: 200px;max-width: 100%;overflow: auto;}#sk-container-id-16 input.sk-toggleable__control:checked~label.sk-toggleable__label-arrow:before {content: \"▾\";}#sk-container-id-16 div.sk-estimator input.sk-toggleable__control:checked~label.sk-toggleable__label {background-color: #d4ebff;}#sk-container-id-16 div.sk-label input.sk-toggleable__control:checked~label.sk-toggleable__label {background-color: #d4ebff;}#sk-container-id-16 input.sk-hidden--visually {border: 0;clip: rect(1px 1px 1px 1px);clip: rect(1px, 1px, 1px, 1px);height: 1px;margin: -1px;overflow: hidden;padding: 0;position: absolute;width: 1px;}#sk-container-id-16 div.sk-estimator {font-family: monospace;background-color: #f0f8ff;border: 1px dotted black;border-radius: 0.25em;box-sizing: border-box;margin-bottom: 0.5em;}#sk-container-id-16 div.sk-estimator:hover {background-color: #d4ebff;}#sk-container-id-16 div.sk-parallel-item::after {content: \"\";width: 100%;border-bottom: 1px solid gray;flex-grow: 1;}#sk-container-id-16 div.sk-label:hover label.sk-toggleable__label {background-color: #d4ebff;}#sk-container-id-16 div.sk-serial::before {content: \"\";position: absolute;border-left: 1px solid gray;box-sizing: border-box;top: 0;bottom: 0;left: 50%;z-index: 0;}#sk-container-id-16 div.sk-serial {display: flex;flex-direction: column;align-items: center;background-color: white;padding-right: 0.2em;padding-left: 0.2em;position: relative;}#sk-container-id-16 div.sk-item {position: relative;z-index: 1;}#sk-container-id-16 div.sk-parallel {display: flex;align-items: stretch;justify-content: center;background-color: white;position: relative;}#sk-container-id-16 div.sk-item::before, #sk-container-id-16 div.sk-parallel-item::before {content: \"\";position: absolute;border-left: 1px solid gray;box-sizing: border-box;top: 0;bottom: 0;left: 50%;z-index: -1;}#sk-container-id-16 div.sk-parallel-item {display: flex;flex-direction: column;z-index: 1;position: relative;background-color: white;}#sk-container-id-16 div.sk-parallel-item:first-child::after {align-self: flex-end;width: 50%;}#sk-container-id-16 div.sk-parallel-item:last-child::after {align-self: flex-start;width: 50%;}#sk-container-id-16 div.sk-parallel-item:only-child::after {width: 0;}#sk-container-id-16 div.sk-dashed-wrapped {border: 1px dashed gray;margin: 0 0.4em 0.5em 0.4em;box-sizing: border-box;padding-bottom: 0.4em;background-color: white;}#sk-container-id-16 div.sk-label label {font-family: monospace;font-weight: bold;display: inline-block;line-height: 1.2em;}#sk-container-id-16 div.sk-label-container {text-align: center;}#sk-container-id-16 div.sk-container {/* jupyter's `normalize.less` sets `[hidden] { display: none; }` but bootstrap.min.css set `[hidden] { display: none !important; }` so we also need the `!important` here to be able to override the default hidden behavior on the sphinx rendered scikit-learn.org. See: https://github.com/scikit-learn/scikit-learn/issues/21755 */display: inline-block !important;position: relative;}#sk-container-id-16 div.sk-text-repr-fallback {display: none;}</style><div id=\"sk-container-id-16\" class=\"sk-top-container\"><div class=\"sk-text-repr-fallback\"><pre>MultinomialNB()</pre><b>In a Jupyter environment, please rerun this cell to show the HTML representation or trust the notebook. <br />On GitHub, the HTML representation is unable to render, please try loading this page with nbviewer.org.</b></div><div class=\"sk-container\" hidden><div class=\"sk-item\"><div class=\"sk-estimator sk-toggleable\"><input class=\"sk-toggleable__control sk-hidden--visually\" id=\"sk-estimator-id-16\" type=\"checkbox\" checked><label for=\"sk-estimator-id-16\" class=\"sk-toggleable__label sk-toggleable__label-arrow\">MultinomialNB</label><div class=\"sk-toggleable__content\"><pre>MultinomialNB()</pre></div></div></div></div></div>"
      ],
      "text/plain": [
       "MultinomialNB()"
      ]
     },
     "execution_count": 104,
     "metadata": {},
     "output_type": "execute_result"
    }
   ],
   "source": [
    "nb_model_tf = MultinomialNB()\n",
    "nb_model_tf.fit(X_train_tf, y_train_tf)"
   ]
  },
  {
   "cell_type": "markdown",
   "id": "7f9f4676",
   "metadata": {},
   "source": [
    "### Scoring Naive Bayes Model with TfIdfVectorizer Data"
   ]
  },
  {
   "cell_type": "code",
   "execution_count": 111,
   "id": "a8158805",
   "metadata": {},
   "outputs": [
    {
     "name": "stdout",
     "output_type": "stream",
     "text": [
      "NaiveBayes Model Accuracy Score: 0.896394\n",
      "NaiveBayes Model Precision Score: 0.908763\n",
      "NaiveBayes Model Recall Score: 0.831889\n",
      "NaiveBayes Model FScore: 0.859825\n",
      "NaiveBayes Model Confusion Matrix\n",
      "[[15198   314]\n",
      " [ 1924  4165]]\n"
     ]
    }
   ],
   "source": [
    "y_nb_pred_train_tf = nb_model_tf.predict(X_train_tf)\n",
    "score_model(y_train_tf, y_nb_pred_train_tf, False)"
   ]
  },
  {
   "cell_type": "code",
   "execution_count": 112,
   "id": "8723b9d5",
   "metadata": {},
   "outputs": [
    {
     "name": "stdout",
     "output_type": "stream",
     "text": [
      "NaiveBayes Model Accuracy Score: 0.842143\n",
      "NaiveBayes Model Precision Score: 0.863144\n",
      "NaiveBayes Model Recall Score: 0.704740\n",
      "NaiveBayes Model FScore: 0.740190\n",
      "NaiveBayes Model Confusion Matrix\n",
      "[[2056   37]\n",
      " [ 405  302]]\n"
     ]
    }
   ],
   "source": [
    "y_nb_pred_test_tf = nb_model_tf.predict(X_test_tf)\n",
    "score_model(y_test_tf, y_nb_pred_test_tf, False)"
   ]
  },
  {
   "cell_type": "code",
   "execution_count": 113,
   "id": "61d21e14",
   "metadata": {},
   "outputs": [
    {
     "name": "stdout",
     "output_type": "stream",
     "text": [
      "NaiveBayes Model Accuracy Score: 0.842143\n",
      "NaiveBayes Model Precision Score: 0.863144\n",
      "NaiveBayes Model Recall Score: 0.704740\n",
      "NaiveBayes Model FScore: 0.740190\n",
      "NaiveBayes Model Confusion Matrix\n",
      "[[2056   37]\n",
      " [ 405  302]]\n"
     ]
    }
   ],
   "source": [
    "y_nb_pred_validate_tf = nb_model_tf.predict(X_validate_tf)\n",
    "score_model(y_validate_tf, y_nb_pred_validate_tf, False)"
   ]
  },
  {
   "cell_type": "markdown",
   "id": "81d51833",
   "metadata": {},
   "source": [
    "## RBF SVM Model using CountVectorizer Data"
   ]
  },
  {
   "cell_type": "markdown",
   "id": "8d4d15d9",
   "metadata": {},
   "source": [
    "### Training RBF SVM Model using CountVectorizer Data"
   ]
  },
  {
   "cell_type": "code",
   "execution_count": 78,
   "id": "9e138ff2",
   "metadata": {},
   "outputs": [
    {
     "data": {
      "text/html": [
       "<style>#sk-container-id-13 {color: black;background-color: white;}#sk-container-id-13 pre{padding: 0;}#sk-container-id-13 div.sk-toggleable {background-color: white;}#sk-container-id-13 label.sk-toggleable__label {cursor: pointer;display: block;width: 100%;margin-bottom: 0;padding: 0.3em;box-sizing: border-box;text-align: center;}#sk-container-id-13 label.sk-toggleable__label-arrow:before {content: \"▸\";float: left;margin-right: 0.25em;color: #696969;}#sk-container-id-13 label.sk-toggleable__label-arrow:hover:before {color: black;}#sk-container-id-13 div.sk-estimator:hover label.sk-toggleable__label-arrow:before {color: black;}#sk-container-id-13 div.sk-toggleable__content {max-height: 0;max-width: 0;overflow: hidden;text-align: left;background-color: #f0f8ff;}#sk-container-id-13 div.sk-toggleable__content pre {margin: 0.2em;color: black;border-radius: 0.25em;background-color: #f0f8ff;}#sk-container-id-13 input.sk-toggleable__control:checked~div.sk-toggleable__content {max-height: 200px;max-width: 100%;overflow: auto;}#sk-container-id-13 input.sk-toggleable__control:checked~label.sk-toggleable__label-arrow:before {content: \"▾\";}#sk-container-id-13 div.sk-estimator input.sk-toggleable__control:checked~label.sk-toggleable__label {background-color: #d4ebff;}#sk-container-id-13 div.sk-label input.sk-toggleable__control:checked~label.sk-toggleable__label {background-color: #d4ebff;}#sk-container-id-13 input.sk-hidden--visually {border: 0;clip: rect(1px 1px 1px 1px);clip: rect(1px, 1px, 1px, 1px);height: 1px;margin: -1px;overflow: hidden;padding: 0;position: absolute;width: 1px;}#sk-container-id-13 div.sk-estimator {font-family: monospace;background-color: #f0f8ff;border: 1px dotted black;border-radius: 0.25em;box-sizing: border-box;margin-bottom: 0.5em;}#sk-container-id-13 div.sk-estimator:hover {background-color: #d4ebff;}#sk-container-id-13 div.sk-parallel-item::after {content: \"\";width: 100%;border-bottom: 1px solid gray;flex-grow: 1;}#sk-container-id-13 div.sk-label:hover label.sk-toggleable__label {background-color: #d4ebff;}#sk-container-id-13 div.sk-serial::before {content: \"\";position: absolute;border-left: 1px solid gray;box-sizing: border-box;top: 0;bottom: 0;left: 50%;z-index: 0;}#sk-container-id-13 div.sk-serial {display: flex;flex-direction: column;align-items: center;background-color: white;padding-right: 0.2em;padding-left: 0.2em;position: relative;}#sk-container-id-13 div.sk-item {position: relative;z-index: 1;}#sk-container-id-13 div.sk-parallel {display: flex;align-items: stretch;justify-content: center;background-color: white;position: relative;}#sk-container-id-13 div.sk-item::before, #sk-container-id-13 div.sk-parallel-item::before {content: \"\";position: absolute;border-left: 1px solid gray;box-sizing: border-box;top: 0;bottom: 0;left: 50%;z-index: -1;}#sk-container-id-13 div.sk-parallel-item {display: flex;flex-direction: column;z-index: 1;position: relative;background-color: white;}#sk-container-id-13 div.sk-parallel-item:first-child::after {align-self: flex-end;width: 50%;}#sk-container-id-13 div.sk-parallel-item:last-child::after {align-self: flex-start;width: 50%;}#sk-container-id-13 div.sk-parallel-item:only-child::after {width: 0;}#sk-container-id-13 div.sk-dashed-wrapped {border: 1px dashed gray;margin: 0 0.4em 0.5em 0.4em;box-sizing: border-box;padding-bottom: 0.4em;background-color: white;}#sk-container-id-13 div.sk-label label {font-family: monospace;font-weight: bold;display: inline-block;line-height: 1.2em;}#sk-container-id-13 div.sk-label-container {text-align: center;}#sk-container-id-13 div.sk-container {/* jupyter's `normalize.less` sets `[hidden] { display: none; }` but bootstrap.min.css set `[hidden] { display: none !important; }` so we also need the `!important` here to be able to override the default hidden behavior on the sphinx rendered scikit-learn.org. See: https://github.com/scikit-learn/scikit-learn/issues/21755 */display: inline-block !important;position: relative;}#sk-container-id-13 div.sk-text-repr-fallback {display: none;}</style><div id=\"sk-container-id-13\" class=\"sk-top-container\"><div class=\"sk-text-repr-fallback\"><pre>SVC(gamma=&#x27;auto&#x27;, probability=True)</pre><b>In a Jupyter environment, please rerun this cell to show the HTML representation or trust the notebook. <br />On GitHub, the HTML representation is unable to render, please try loading this page with nbviewer.org.</b></div><div class=\"sk-container\" hidden><div class=\"sk-item\"><div class=\"sk-estimator sk-toggleable\"><input class=\"sk-toggleable__control sk-hidden--visually\" id=\"sk-estimator-id-13\" type=\"checkbox\" checked><label for=\"sk-estimator-id-13\" class=\"sk-toggleable__label sk-toggleable__label-arrow\">SVC</label><div class=\"sk-toggleable__content\"><pre>SVC(gamma=&#x27;auto&#x27;, probability=True)</pre></div></div></div></div></div>"
      ],
      "text/plain": [
       "SVC(gamma='auto', probability=True)"
      ]
     },
     "execution_count": 78,
     "metadata": {},
     "output_type": "execute_result"
    }
   ],
   "source": [
    "svm_model_rbf = SVC(C=1.0, kernel='rbf', degree=3, gamma='auto')\n",
    "svm_model_rbf.fit(X_train, y_train)"
   ]
  },
  {
   "cell_type": "markdown",
   "id": "ee055ae8",
   "metadata": {},
   "source": [
    "### Scoring RBF SVM Model using CountVectorizer Data"
   ]
  },
  {
   "cell_type": "code",
   "execution_count": 82,
   "id": "ca114dea",
   "metadata": {},
   "outputs": [
    {
     "name": "stdout",
     "output_type": "stream",
     "text": [
      "SVM Model Accuracy Score: 0.718115\n",
      "SVM Model Precision Score: 0.859057\n",
      "SVM Model Recall Score: 0.500000\n",
      "SVM Model FScore: 0.417967\n",
      "SVM Model Confusion Matrix\n",
      "[[15512     0]\n",
      " [ 6089     0]]\n"
     ]
    }
   ],
   "source": [
    "y_pred_train_rbf = svm_model_rbf.predict(X_train)\n",
    "score_model(y_train, y_pred_train_rbf)"
   ]
  },
  {
   "cell_type": "code",
   "execution_count": 80,
   "id": "c5bfc014",
   "metadata": {},
   "outputs": [
    {
     "name": "stdout",
     "output_type": "stream",
     "text": [
      "SVM Model Accuracy Score: 0.747500\n",
      "SVM Model Precision Score: 0.873750\n",
      "SVM Model Recall Score: 0.500000\n",
      "SVM Model FScore: 0.427754\n",
      "SVM Model Confusion Matrix\n",
      "[[2093    0]\n",
      " [ 707    0]]\n"
     ]
    }
   ],
   "source": [
    "y_pred_test_rbf = svm_model_rbf.predict(X_test)\n",
    "score_model(y_test, y_pred_test_rbf)"
   ]
  },
  {
   "cell_type": "code",
   "execution_count": 81,
   "id": "885acbf6",
   "metadata": {},
   "outputs": [
    {
     "name": "stdout",
     "output_type": "stream",
     "text": [
      "SVM Model Accuracy Score: 0.747500\n",
      "SVM Model Precision Score: 0.873750\n",
      "SVM Model Recall Score: 0.500000\n",
      "SVM Model FScore: 0.427754\n",
      "SVM Model Confusion Matrix\n",
      "[[2093    0]\n",
      " [ 707    0]]\n"
     ]
    }
   ],
   "source": [
    "y_pred_validate_rbf = svm_model_rbf.predict(X_validate)\n",
    "score_model(y_validate, y_pred_validate_rbf)"
   ]
  },
  {
   "cell_type": "markdown",
   "id": "d6c934d6",
   "metadata": {},
   "source": [
    "## RBF SVM Model using TfIdfVectorizer Data"
   ]
  },
  {
   "cell_type": "markdown",
   "id": "7f495aca",
   "metadata": {},
   "source": [
    "### Training RBF SVM Model using TfIdfVectorizer Data"
   ]
  },
  {
   "cell_type": "code",
   "execution_count": 117,
   "id": "9e83daf8",
   "metadata": {},
   "outputs": [
    {
     "data": {
      "text/html": [
       "<style>#sk-container-id-17 {color: black;background-color: white;}#sk-container-id-17 pre{padding: 0;}#sk-container-id-17 div.sk-toggleable {background-color: white;}#sk-container-id-17 label.sk-toggleable__label {cursor: pointer;display: block;width: 100%;margin-bottom: 0;padding: 0.3em;box-sizing: border-box;text-align: center;}#sk-container-id-17 label.sk-toggleable__label-arrow:before {content: \"▸\";float: left;margin-right: 0.25em;color: #696969;}#sk-container-id-17 label.sk-toggleable__label-arrow:hover:before {color: black;}#sk-container-id-17 div.sk-estimator:hover label.sk-toggleable__label-arrow:before {color: black;}#sk-container-id-17 div.sk-toggleable__content {max-height: 0;max-width: 0;overflow: hidden;text-align: left;background-color: #f0f8ff;}#sk-container-id-17 div.sk-toggleable__content pre {margin: 0.2em;color: black;border-radius: 0.25em;background-color: #f0f8ff;}#sk-container-id-17 input.sk-toggleable__control:checked~div.sk-toggleable__content {max-height: 200px;max-width: 100%;overflow: auto;}#sk-container-id-17 input.sk-toggleable__control:checked~label.sk-toggleable__label-arrow:before {content: \"▾\";}#sk-container-id-17 div.sk-estimator input.sk-toggleable__control:checked~label.sk-toggleable__label {background-color: #d4ebff;}#sk-container-id-17 div.sk-label input.sk-toggleable__control:checked~label.sk-toggleable__label {background-color: #d4ebff;}#sk-container-id-17 input.sk-hidden--visually {border: 0;clip: rect(1px 1px 1px 1px);clip: rect(1px, 1px, 1px, 1px);height: 1px;margin: -1px;overflow: hidden;padding: 0;position: absolute;width: 1px;}#sk-container-id-17 div.sk-estimator {font-family: monospace;background-color: #f0f8ff;border: 1px dotted black;border-radius: 0.25em;box-sizing: border-box;margin-bottom: 0.5em;}#sk-container-id-17 div.sk-estimator:hover {background-color: #d4ebff;}#sk-container-id-17 div.sk-parallel-item::after {content: \"\";width: 100%;border-bottom: 1px solid gray;flex-grow: 1;}#sk-container-id-17 div.sk-label:hover label.sk-toggleable__label {background-color: #d4ebff;}#sk-container-id-17 div.sk-serial::before {content: \"\";position: absolute;border-left: 1px solid gray;box-sizing: border-box;top: 0;bottom: 0;left: 50%;z-index: 0;}#sk-container-id-17 div.sk-serial {display: flex;flex-direction: column;align-items: center;background-color: white;padding-right: 0.2em;padding-left: 0.2em;position: relative;}#sk-container-id-17 div.sk-item {position: relative;z-index: 1;}#sk-container-id-17 div.sk-parallel {display: flex;align-items: stretch;justify-content: center;background-color: white;position: relative;}#sk-container-id-17 div.sk-item::before, #sk-container-id-17 div.sk-parallel-item::before {content: \"\";position: absolute;border-left: 1px solid gray;box-sizing: border-box;top: 0;bottom: 0;left: 50%;z-index: -1;}#sk-container-id-17 div.sk-parallel-item {display: flex;flex-direction: column;z-index: 1;position: relative;background-color: white;}#sk-container-id-17 div.sk-parallel-item:first-child::after {align-self: flex-end;width: 50%;}#sk-container-id-17 div.sk-parallel-item:last-child::after {align-self: flex-start;width: 50%;}#sk-container-id-17 div.sk-parallel-item:only-child::after {width: 0;}#sk-container-id-17 div.sk-dashed-wrapped {border: 1px dashed gray;margin: 0 0.4em 0.5em 0.4em;box-sizing: border-box;padding-bottom: 0.4em;background-color: white;}#sk-container-id-17 div.sk-label label {font-family: monospace;font-weight: bold;display: inline-block;line-height: 1.2em;}#sk-container-id-17 div.sk-label-container {text-align: center;}#sk-container-id-17 div.sk-container {/* jupyter's `normalize.less` sets `[hidden] { display: none; }` but bootstrap.min.css set `[hidden] { display: none !important; }` so we also need the `!important` here to be able to override the default hidden behavior on the sphinx rendered scikit-learn.org. See: https://github.com/scikit-learn/scikit-learn/issues/21755 */display: inline-block !important;position: relative;}#sk-container-id-17 div.sk-text-repr-fallback {display: none;}</style><div id=\"sk-container-id-17\" class=\"sk-top-container\"><div class=\"sk-text-repr-fallback\"><pre>SVC(gamma=&#x27;auto&#x27;)</pre><b>In a Jupyter environment, please rerun this cell to show the HTML representation or trust the notebook. <br />On GitHub, the HTML representation is unable to render, please try loading this page with nbviewer.org.</b></div><div class=\"sk-container\" hidden><div class=\"sk-item\"><div class=\"sk-estimator sk-toggleable\"><input class=\"sk-toggleable__control sk-hidden--visually\" id=\"sk-estimator-id-17\" type=\"checkbox\" checked><label for=\"sk-estimator-id-17\" class=\"sk-toggleable__label sk-toggleable__label-arrow\">SVC</label><div class=\"sk-toggleable__content\"><pre>SVC(gamma=&#x27;auto&#x27;)</pre></div></div></div></div></div>"
      ],
      "text/plain": [
       "SVC(gamma='auto')"
      ]
     },
     "execution_count": 117,
     "metadata": {},
     "output_type": "execute_result"
    }
   ],
   "source": [
    "svm_model_rbf_tf = SVC(C=1.0, kernel='rbf', degree=3, gamma='auto')\n",
    "svm_model_rbf_tf.fit(X_train_tf, y_train_tf)"
   ]
  },
  {
   "cell_type": "markdown",
   "id": "9837a5ba",
   "metadata": {},
   "source": [
    "### Scoring RBF SVM Model using TfIdfVectorizer Data"
   ]
  },
  {
   "cell_type": "code",
   "execution_count": 118,
   "id": "77038229",
   "metadata": {},
   "outputs": [
    {
     "name": "stdout",
     "output_type": "stream",
     "text": [
      "SVM Model Accuracy Score: 0.718115\n",
      "SVM Model Precision Score: 0.859057\n",
      "SVM Model Recall Score: 0.500000\n",
      "SVM Model FScore: 0.417967\n",
      "SVM Model Confusion Matrix\n",
      "[[15512     0]\n",
      " [ 6089     0]]\n"
     ]
    }
   ],
   "source": [
    "y_pred_train_rbf_tf = svm_model_rbf_tf.predict(X_train_tf)\n",
    "score_model(y_train_tf, y_pred_train_rbf_tf)"
   ]
  },
  {
   "cell_type": "code",
   "execution_count": 119,
   "id": "dbee7199",
   "metadata": {},
   "outputs": [
    {
     "name": "stdout",
     "output_type": "stream",
     "text": [
      "SVM Model Accuracy Score: 0.747500\n",
      "SVM Model Precision Score: 0.873750\n",
      "SVM Model Recall Score: 0.500000\n",
      "SVM Model FScore: 0.427754\n",
      "SVM Model Confusion Matrix\n",
      "[[2093    0]\n",
      " [ 707    0]]\n"
     ]
    }
   ],
   "source": [
    "y_pred_test_rbf_tf = svm_model_rbf_tf.predict(X_test_tf)\n",
    "score_model(y_test_tf, y_pred_test_rbf_tf)"
   ]
  },
  {
   "cell_type": "code",
   "execution_count": 120,
   "id": "2cd8fa17",
   "metadata": {},
   "outputs": [
    {
     "name": "stdout",
     "output_type": "stream",
     "text": [
      "SVM Model Accuracy Score: 0.747500\n",
      "SVM Model Precision Score: 0.873750\n",
      "SVM Model Recall Score: 0.500000\n",
      "SVM Model FScore: 0.427754\n",
      "SVM Model Confusion Matrix\n",
      "[[2093    0]\n",
      " [ 707    0]]\n"
     ]
    }
   ],
   "source": [
    "y_pred_validate_rbf_tf = svm_model_rbf_tf.predict(X_validate_tf)\n",
    "score_model(y_validate_tf, y_pred_validate_rbf_tf)"
   ]
  },
  {
   "cell_type": "markdown",
   "id": "2cb70372",
   "metadata": {},
   "source": [
    "## Uniform Naive Bayes Model using CountVectorizer Data"
   ]
  },
  {
   "cell_type": "markdown",
   "id": "8971d37f",
   "metadata": {},
   "source": [
    "### Training Uniform Naive Bayes Model using CountVectorizer Data"
   ]
  },
  {
   "cell_type": "code",
   "execution_count": 29,
   "id": "e65b1f83",
   "metadata": {},
   "outputs": [
    {
     "data": {
      "text/html": [
       "<style>#sk-container-id-4 {color: black;background-color: white;}#sk-container-id-4 pre{padding: 0;}#sk-container-id-4 div.sk-toggleable {background-color: white;}#sk-container-id-4 label.sk-toggleable__label {cursor: pointer;display: block;width: 100%;margin-bottom: 0;padding: 0.3em;box-sizing: border-box;text-align: center;}#sk-container-id-4 label.sk-toggleable__label-arrow:before {content: \"▸\";float: left;margin-right: 0.25em;color: #696969;}#sk-container-id-4 label.sk-toggleable__label-arrow:hover:before {color: black;}#sk-container-id-4 div.sk-estimator:hover label.sk-toggleable__label-arrow:before {color: black;}#sk-container-id-4 div.sk-toggleable__content {max-height: 0;max-width: 0;overflow: hidden;text-align: left;background-color: #f0f8ff;}#sk-container-id-4 div.sk-toggleable__content pre {margin: 0.2em;color: black;border-radius: 0.25em;background-color: #f0f8ff;}#sk-container-id-4 input.sk-toggleable__control:checked~div.sk-toggleable__content {max-height: 200px;max-width: 100%;overflow: auto;}#sk-container-id-4 input.sk-toggleable__control:checked~label.sk-toggleable__label-arrow:before {content: \"▾\";}#sk-container-id-4 div.sk-estimator input.sk-toggleable__control:checked~label.sk-toggleable__label {background-color: #d4ebff;}#sk-container-id-4 div.sk-label input.sk-toggleable__control:checked~label.sk-toggleable__label {background-color: #d4ebff;}#sk-container-id-4 input.sk-hidden--visually {border: 0;clip: rect(1px 1px 1px 1px);clip: rect(1px, 1px, 1px, 1px);height: 1px;margin: -1px;overflow: hidden;padding: 0;position: absolute;width: 1px;}#sk-container-id-4 div.sk-estimator {font-family: monospace;background-color: #f0f8ff;border: 1px dotted black;border-radius: 0.25em;box-sizing: border-box;margin-bottom: 0.5em;}#sk-container-id-4 div.sk-estimator:hover {background-color: #d4ebff;}#sk-container-id-4 div.sk-parallel-item::after {content: \"\";width: 100%;border-bottom: 1px solid gray;flex-grow: 1;}#sk-container-id-4 div.sk-label:hover label.sk-toggleable__label {background-color: #d4ebff;}#sk-container-id-4 div.sk-serial::before {content: \"\";position: absolute;border-left: 1px solid gray;box-sizing: border-box;top: 0;bottom: 0;left: 50%;z-index: 0;}#sk-container-id-4 div.sk-serial {display: flex;flex-direction: column;align-items: center;background-color: white;padding-right: 0.2em;padding-left: 0.2em;position: relative;}#sk-container-id-4 div.sk-item {position: relative;z-index: 1;}#sk-container-id-4 div.sk-parallel {display: flex;align-items: stretch;justify-content: center;background-color: white;position: relative;}#sk-container-id-4 div.sk-item::before, #sk-container-id-4 div.sk-parallel-item::before {content: \"\";position: absolute;border-left: 1px solid gray;box-sizing: border-box;top: 0;bottom: 0;left: 50%;z-index: -1;}#sk-container-id-4 div.sk-parallel-item {display: flex;flex-direction: column;z-index: 1;position: relative;background-color: white;}#sk-container-id-4 div.sk-parallel-item:first-child::after {align-self: flex-end;width: 50%;}#sk-container-id-4 div.sk-parallel-item:last-child::after {align-self: flex-start;width: 50%;}#sk-container-id-4 div.sk-parallel-item:only-child::after {width: 0;}#sk-container-id-4 div.sk-dashed-wrapped {border: 1px dashed gray;margin: 0 0.4em 0.5em 0.4em;box-sizing: border-box;padding-bottom: 0.4em;background-color: white;}#sk-container-id-4 div.sk-label label {font-family: monospace;font-weight: bold;display: inline-block;line-height: 1.2em;}#sk-container-id-4 div.sk-label-container {text-align: center;}#sk-container-id-4 div.sk-container {/* jupyter's `normalize.less` sets `[hidden] { display: none; }` but bootstrap.min.css set `[hidden] { display: none !important; }` so we also need the `!important` here to be able to override the default hidden behavior on the sphinx rendered scikit-learn.org. See: https://github.com/scikit-learn/scikit-learn/issues/21755 */display: inline-block !important;position: relative;}#sk-container-id-4 div.sk-text-repr-fallback {display: none;}</style><div id=\"sk-container-id-4\" class=\"sk-top-container\"><div class=\"sk-text-repr-fallback\"><pre>MultinomialNB(fit_prior=False)</pre><b>In a Jupyter environment, please rerun this cell to show the HTML representation or trust the notebook. <br />On GitHub, the HTML representation is unable to render, please try loading this page with nbviewer.org.</b></div><div class=\"sk-container\" hidden><div class=\"sk-item\"><div class=\"sk-estimator sk-toggleable\"><input class=\"sk-toggleable__control sk-hidden--visually\" id=\"sk-estimator-id-4\" type=\"checkbox\" checked><label for=\"sk-estimator-id-4\" class=\"sk-toggleable__label sk-toggleable__label-arrow\">MultinomialNB</label><div class=\"sk-toggleable__content\"><pre>MultinomialNB(fit_prior=False)</pre></div></div></div></div></div>"
      ],
      "text/plain": [
       "MultinomialNB(fit_prior=False)"
      ]
     },
     "execution_count": 29,
     "metadata": {},
     "output_type": "execute_result"
    }
   ],
   "source": [
    "nb_model_uni = MultinomialNB(fit_prior=False)\n",
    "nb_model_uni.fit(X_train, y_train)"
   ]
  },
  {
   "cell_type": "markdown",
   "id": "d26d259f",
   "metadata": {},
   "source": [
    "### Scoring Uniform Naive Bayes Model using CountVectorizer Data"
   ]
  },
  {
   "cell_type": "code",
   "execution_count": 75,
   "id": "6e97d7b9",
   "metadata": {},
   "outputs": [
    {
     "name": "stdout",
     "output_type": "stream",
     "text": [
      "NaiveBayes Model Accuracy Score: 0.891440\n",
      "NaiveBayes Model Precision Score: 0.858623\n",
      "NaiveBayes Model Recall Score: 0.893137\n",
      "NaiveBayes Model FScore: 0.872465\n",
      "NaiveBayes Model Confusion Matrix\n",
      "[[13794  1718]\n",
      " [  627  5462]]\n"
     ]
    }
   ],
   "source": [
    "y_nb_pred_train_uni = nb_model_uni.predict(X_train)\n",
    "score_model(y_train, y_nb_pred_train_uni, False)"
   ]
  },
  {
   "cell_type": "code",
   "execution_count": 31,
   "id": "a40e8c89",
   "metadata": {},
   "outputs": [
    {
     "name": "stdout",
     "output_type": "stream",
     "text": [
      "NaiveBayes Model Accuracy Score: 0.852857\n",
      "NaiveBayes Model Precision Score: 0.803495\n",
      "NaiveBayes Model Recall Score: 0.814000\n",
      "NaiveBayes Model FScore: 0.808464\n",
      "NaiveBayes Model Confusion Matrix\n",
      "[[1868  225]\n",
      " [ 187  520]]\n"
     ]
    }
   ],
   "source": [
    "y_nb_pred_test_uni = nb_model_uni.predict(X_test)\n",
    "score_model(y_test, y_nb_pred_test_uni, False)"
   ]
  },
  {
   "cell_type": "code",
   "execution_count": 32,
   "id": "b21be4d3",
   "metadata": {},
   "outputs": [
    {
     "name": "stdout",
     "output_type": "stream",
     "text": [
      "NaiveBayes Model Accuracy Score: 0.852857\n",
      "NaiveBayes Model Precision Score: 0.803495\n",
      "NaiveBayes Model Recall Score: 0.814000\n",
      "NaiveBayes Model FScore: 0.808464\n",
      "NaiveBayes Model Confusion Matrix\n",
      "[[1868  225]\n",
      " [ 187  520]]\n"
     ]
    }
   ],
   "source": [
    "y_nb_pred_validate_uni = nb_model_uni.predict(X_validate)\n",
    "score_model(y_validate, y_nb_pred_validate_uni, False)"
   ]
  },
  {
   "cell_type": "markdown",
   "id": "dd202283",
   "metadata": {},
   "source": [
    "## Oversampling"
   ]
  },
  {
   "cell_type": "code",
   "execution_count": 33,
   "id": "56868afd",
   "metadata": {},
   "outputs": [
    {
     "data": {
      "text/plain": [
       "((31024, 43643), (31024,))"
      ]
     },
     "execution_count": 33,
     "metadata": {},
     "output_type": "execute_result"
    }
   ],
   "source": [
    "over_sampler = RandomOverSampler()\n",
    "X_train_res, y_train_res = over_sampler.fit_resample(X_train, y_train)\n",
    "X_train_res.shape, y_train_res.shape"
   ]
  },
  {
   "cell_type": "markdown",
   "id": "67c776d6",
   "metadata": {},
   "source": [
    "## Linear SVM Model with Oversampled Data"
   ]
  },
  {
   "cell_type": "markdown",
   "id": "e34d27e8",
   "metadata": {},
   "source": [
    "### Training Linear SVM Model with Oversampled Data"
   ]
  },
  {
   "cell_type": "code",
   "execution_count": 34,
   "id": "d019e206",
   "metadata": {},
   "outputs": [
    {
     "data": {
      "text/html": [
       "<style>#sk-container-id-5 {color: black;background-color: white;}#sk-container-id-5 pre{padding: 0;}#sk-container-id-5 div.sk-toggleable {background-color: white;}#sk-container-id-5 label.sk-toggleable__label {cursor: pointer;display: block;width: 100%;margin-bottom: 0;padding: 0.3em;box-sizing: border-box;text-align: center;}#sk-container-id-5 label.sk-toggleable__label-arrow:before {content: \"▸\";float: left;margin-right: 0.25em;color: #696969;}#sk-container-id-5 label.sk-toggleable__label-arrow:hover:before {color: black;}#sk-container-id-5 div.sk-estimator:hover label.sk-toggleable__label-arrow:before {color: black;}#sk-container-id-5 div.sk-toggleable__content {max-height: 0;max-width: 0;overflow: hidden;text-align: left;background-color: #f0f8ff;}#sk-container-id-5 div.sk-toggleable__content pre {margin: 0.2em;color: black;border-radius: 0.25em;background-color: #f0f8ff;}#sk-container-id-5 input.sk-toggleable__control:checked~div.sk-toggleable__content {max-height: 200px;max-width: 100%;overflow: auto;}#sk-container-id-5 input.sk-toggleable__control:checked~label.sk-toggleable__label-arrow:before {content: \"▾\";}#sk-container-id-5 div.sk-estimator input.sk-toggleable__control:checked~label.sk-toggleable__label {background-color: #d4ebff;}#sk-container-id-5 div.sk-label input.sk-toggleable__control:checked~label.sk-toggleable__label {background-color: #d4ebff;}#sk-container-id-5 input.sk-hidden--visually {border: 0;clip: rect(1px 1px 1px 1px);clip: rect(1px, 1px, 1px, 1px);height: 1px;margin: -1px;overflow: hidden;padding: 0;position: absolute;width: 1px;}#sk-container-id-5 div.sk-estimator {font-family: monospace;background-color: #f0f8ff;border: 1px dotted black;border-radius: 0.25em;box-sizing: border-box;margin-bottom: 0.5em;}#sk-container-id-5 div.sk-estimator:hover {background-color: #d4ebff;}#sk-container-id-5 div.sk-parallel-item::after {content: \"\";width: 100%;border-bottom: 1px solid gray;flex-grow: 1;}#sk-container-id-5 div.sk-label:hover label.sk-toggleable__label {background-color: #d4ebff;}#sk-container-id-5 div.sk-serial::before {content: \"\";position: absolute;border-left: 1px solid gray;box-sizing: border-box;top: 0;bottom: 0;left: 50%;z-index: 0;}#sk-container-id-5 div.sk-serial {display: flex;flex-direction: column;align-items: center;background-color: white;padding-right: 0.2em;padding-left: 0.2em;position: relative;}#sk-container-id-5 div.sk-item {position: relative;z-index: 1;}#sk-container-id-5 div.sk-parallel {display: flex;align-items: stretch;justify-content: center;background-color: white;position: relative;}#sk-container-id-5 div.sk-item::before, #sk-container-id-5 div.sk-parallel-item::before {content: \"\";position: absolute;border-left: 1px solid gray;box-sizing: border-box;top: 0;bottom: 0;left: 50%;z-index: -1;}#sk-container-id-5 div.sk-parallel-item {display: flex;flex-direction: column;z-index: 1;position: relative;background-color: white;}#sk-container-id-5 div.sk-parallel-item:first-child::after {align-self: flex-end;width: 50%;}#sk-container-id-5 div.sk-parallel-item:last-child::after {align-self: flex-start;width: 50%;}#sk-container-id-5 div.sk-parallel-item:only-child::after {width: 0;}#sk-container-id-5 div.sk-dashed-wrapped {border: 1px dashed gray;margin: 0 0.4em 0.5em 0.4em;box-sizing: border-box;padding-bottom: 0.4em;background-color: white;}#sk-container-id-5 div.sk-label label {font-family: monospace;font-weight: bold;display: inline-block;line-height: 1.2em;}#sk-container-id-5 div.sk-label-container {text-align: center;}#sk-container-id-5 div.sk-container {/* jupyter's `normalize.less` sets `[hidden] { display: none; }` but bootstrap.min.css set `[hidden] { display: none !important; }` so we also need the `!important` here to be able to override the default hidden behavior on the sphinx rendered scikit-learn.org. See: https://github.com/scikit-learn/scikit-learn/issues/21755 */display: inline-block !important;position: relative;}#sk-container-id-5 div.sk-text-repr-fallback {display: none;}</style><div id=\"sk-container-id-5\" class=\"sk-top-container\"><div class=\"sk-text-repr-fallback\"><pre>SVC(gamma=&#x27;auto&#x27;, kernel=&#x27;linear&#x27;)</pre><b>In a Jupyter environment, please rerun this cell to show the HTML representation or trust the notebook. <br />On GitHub, the HTML representation is unable to render, please try loading this page with nbviewer.org.</b></div><div class=\"sk-container\" hidden><div class=\"sk-item\"><div class=\"sk-estimator sk-toggleable\"><input class=\"sk-toggleable__control sk-hidden--visually\" id=\"sk-estimator-id-5\" type=\"checkbox\" checked><label for=\"sk-estimator-id-5\" class=\"sk-toggleable__label sk-toggleable__label-arrow\">SVC</label><div class=\"sk-toggleable__content\"><pre>SVC(gamma=&#x27;auto&#x27;, kernel=&#x27;linear&#x27;)</pre></div></div></div></div></div>"
      ],
      "text/plain": [
       "SVC(gamma='auto', kernel='linear')"
      ]
     },
     "execution_count": 34,
     "metadata": {},
     "output_type": "execute_result"
    }
   ],
   "source": [
    "svm_model_res = SVC(C=1.0, kernel='linear', degree=3, gamma='auto')\n",
    "svm_model_res.fit(X_train_res, y_train_res)"
   ]
  },
  {
   "cell_type": "markdown",
   "id": "dc5d8ac0",
   "metadata": {},
   "source": [
    "### Scoring Linear SVM Model with Oversampled Data"
   ]
  },
  {
   "cell_type": "code",
   "execution_count": 35,
   "id": "d3d4edff",
   "metadata": {},
   "outputs": [
    {
     "name": "stdout",
     "output_type": "stream",
     "text": [
      "SVM Model Accuracy Score: 0.990233\n",
      "SVM Model Precision Score: 0.990269\n",
      "SVM Model Recall Score: 0.990233\n",
      "SVM Model FScore: 0.990233\n",
      "SVM Model Confusion Matrix\n",
      "[[15294   218]\n",
      " [   85 15427]]\n"
     ]
    }
   ],
   "source": [
    "y_pred_train_res = svm_model_res.predict(X_train_res)\n",
    "score_model(y_train_res, y_pred_train_res)"
   ]
  },
  {
   "cell_type": "code",
   "execution_count": 36,
   "id": "b4a84f86",
   "metadata": {},
   "outputs": [
    {
     "name": "stdout",
     "output_type": "stream",
     "text": [
      "SVM Model Accuracy Score: 0.817500\n",
      "SVM Model Precision Score: 0.760053\n",
      "SVM Model Recall Score: 0.788945\n",
      "SVM Model FScore: 0.771619\n",
      "SVM Model Confusion Matrix\n",
      "[[1772  321]\n",
      " [ 190  517]]\n"
     ]
    }
   ],
   "source": [
    "y_pred_test_res = svm_model_res.predict(X_test)\n",
    "score_model(y_test, y_pred_test_res)"
   ]
  },
  {
   "cell_type": "code",
   "execution_count": 37,
   "id": "4ed12894",
   "metadata": {},
   "outputs": [
    {
     "name": "stdout",
     "output_type": "stream",
     "text": [
      "SVM Model Accuracy Score: 0.817500\n",
      "SVM Model Precision Score: 0.760053\n",
      "SVM Model Recall Score: 0.788945\n",
      "SVM Model FScore: 0.771619\n",
      "SVM Model Confusion Matrix\n",
      "[[1772  321]\n",
      " [ 190  517]]\n"
     ]
    }
   ],
   "source": [
    "y_pred_validate_res = svm_model_res.predict(X_validate)\n",
    "score_model(y_validate, y_pred_validate_res)"
   ]
  },
  {
   "cell_type": "markdown",
   "id": "c9dd140d",
   "metadata": {},
   "source": [
    "## Naive Bayes Model with Oversampled Data"
   ]
  },
  {
   "cell_type": "markdown",
   "id": "496d3ff7",
   "metadata": {},
   "source": [
    "### Training Naive Bayes Model with Oversampled Data"
   ]
  },
  {
   "cell_type": "code",
   "execution_count": 38,
   "id": "461b60c6",
   "metadata": {},
   "outputs": [
    {
     "data": {
      "text/html": [
       "<style>#sk-container-id-6 {color: black;background-color: white;}#sk-container-id-6 pre{padding: 0;}#sk-container-id-6 div.sk-toggleable {background-color: white;}#sk-container-id-6 label.sk-toggleable__label {cursor: pointer;display: block;width: 100%;margin-bottom: 0;padding: 0.3em;box-sizing: border-box;text-align: center;}#sk-container-id-6 label.sk-toggleable__label-arrow:before {content: \"▸\";float: left;margin-right: 0.25em;color: #696969;}#sk-container-id-6 label.sk-toggleable__label-arrow:hover:before {color: black;}#sk-container-id-6 div.sk-estimator:hover label.sk-toggleable__label-arrow:before {color: black;}#sk-container-id-6 div.sk-toggleable__content {max-height: 0;max-width: 0;overflow: hidden;text-align: left;background-color: #f0f8ff;}#sk-container-id-6 div.sk-toggleable__content pre {margin: 0.2em;color: black;border-radius: 0.25em;background-color: #f0f8ff;}#sk-container-id-6 input.sk-toggleable__control:checked~div.sk-toggleable__content {max-height: 200px;max-width: 100%;overflow: auto;}#sk-container-id-6 input.sk-toggleable__control:checked~label.sk-toggleable__label-arrow:before {content: \"▾\";}#sk-container-id-6 div.sk-estimator input.sk-toggleable__control:checked~label.sk-toggleable__label {background-color: #d4ebff;}#sk-container-id-6 div.sk-label input.sk-toggleable__control:checked~label.sk-toggleable__label {background-color: #d4ebff;}#sk-container-id-6 input.sk-hidden--visually {border: 0;clip: rect(1px 1px 1px 1px);clip: rect(1px, 1px, 1px, 1px);height: 1px;margin: -1px;overflow: hidden;padding: 0;position: absolute;width: 1px;}#sk-container-id-6 div.sk-estimator {font-family: monospace;background-color: #f0f8ff;border: 1px dotted black;border-radius: 0.25em;box-sizing: border-box;margin-bottom: 0.5em;}#sk-container-id-6 div.sk-estimator:hover {background-color: #d4ebff;}#sk-container-id-6 div.sk-parallel-item::after {content: \"\";width: 100%;border-bottom: 1px solid gray;flex-grow: 1;}#sk-container-id-6 div.sk-label:hover label.sk-toggleable__label {background-color: #d4ebff;}#sk-container-id-6 div.sk-serial::before {content: \"\";position: absolute;border-left: 1px solid gray;box-sizing: border-box;top: 0;bottom: 0;left: 50%;z-index: 0;}#sk-container-id-6 div.sk-serial {display: flex;flex-direction: column;align-items: center;background-color: white;padding-right: 0.2em;padding-left: 0.2em;position: relative;}#sk-container-id-6 div.sk-item {position: relative;z-index: 1;}#sk-container-id-6 div.sk-parallel {display: flex;align-items: stretch;justify-content: center;background-color: white;position: relative;}#sk-container-id-6 div.sk-item::before, #sk-container-id-6 div.sk-parallel-item::before {content: \"\";position: absolute;border-left: 1px solid gray;box-sizing: border-box;top: 0;bottom: 0;left: 50%;z-index: -1;}#sk-container-id-6 div.sk-parallel-item {display: flex;flex-direction: column;z-index: 1;position: relative;background-color: white;}#sk-container-id-6 div.sk-parallel-item:first-child::after {align-self: flex-end;width: 50%;}#sk-container-id-6 div.sk-parallel-item:last-child::after {align-self: flex-start;width: 50%;}#sk-container-id-6 div.sk-parallel-item:only-child::after {width: 0;}#sk-container-id-6 div.sk-dashed-wrapped {border: 1px dashed gray;margin: 0 0.4em 0.5em 0.4em;box-sizing: border-box;padding-bottom: 0.4em;background-color: white;}#sk-container-id-6 div.sk-label label {font-family: monospace;font-weight: bold;display: inline-block;line-height: 1.2em;}#sk-container-id-6 div.sk-label-container {text-align: center;}#sk-container-id-6 div.sk-container {/* jupyter's `normalize.less` sets `[hidden] { display: none; }` but bootstrap.min.css set `[hidden] { display: none !important; }` so we also need the `!important` here to be able to override the default hidden behavior on the sphinx rendered scikit-learn.org. See: https://github.com/scikit-learn/scikit-learn/issues/21755 */display: inline-block !important;position: relative;}#sk-container-id-6 div.sk-text-repr-fallback {display: none;}</style><div id=\"sk-container-id-6\" class=\"sk-top-container\"><div class=\"sk-text-repr-fallback\"><pre>MultinomialNB()</pre><b>In a Jupyter environment, please rerun this cell to show the HTML representation or trust the notebook. <br />On GitHub, the HTML representation is unable to render, please try loading this page with nbviewer.org.</b></div><div class=\"sk-container\" hidden><div class=\"sk-item\"><div class=\"sk-estimator sk-toggleable\"><input class=\"sk-toggleable__control sk-hidden--visually\" id=\"sk-estimator-id-6\" type=\"checkbox\" checked><label for=\"sk-estimator-id-6\" class=\"sk-toggleable__label sk-toggleable__label-arrow\">MultinomialNB</label><div class=\"sk-toggleable__content\"><pre>MultinomialNB()</pre></div></div></div></div></div>"
      ],
      "text/plain": [
       "MultinomialNB()"
      ]
     },
     "execution_count": 38,
     "metadata": {},
     "output_type": "execute_result"
    }
   ],
   "source": [
    "nb_model_res = MultinomialNB()\n",
    "nb_model_res.fit(X_train_res, y_train_res)"
   ]
  },
  {
   "cell_type": "markdown",
   "id": "c0c4027f",
   "metadata": {},
   "source": [
    "### Scoring Naive Bayes Model with Oversampled Data"
   ]
  },
  {
   "cell_type": "code",
   "execution_count": 76,
   "id": "957315e7",
   "metadata": {},
   "outputs": [
    {
     "name": "stdout",
     "output_type": "stream",
     "text": [
      "NaiveBayes Model Accuracy Score: 0.915453\n",
      "NaiveBayes Model Precision Score: 0.916231\n",
      "NaiveBayes Model Recall Score: 0.915453\n",
      "NaiveBayes Model FScore: 0.915413\n",
      "NaiveBayes Model Confusion Matrix\n",
      "[[13865  1647]\n",
      " [  976 14536]]\n"
     ]
    }
   ],
   "source": [
    "y_nb_pred_train_res = nb_model_res.predict(X_train_res)\n",
    "score_model(y_train_res, y_nb_pred_train_res, False)"
   ]
  },
  {
   "cell_type": "code",
   "execution_count": 40,
   "id": "78c976e1",
   "metadata": {},
   "outputs": [
    {
     "name": "stdout",
     "output_type": "stream",
     "text": [
      "NaiveBayes Model Accuracy Score: 0.836071\n",
      "NaiveBayes Model Precision Score: 0.782344\n",
      "NaiveBayes Model Recall Score: 0.815417\n",
      "NaiveBayes Model FScore: 0.795513\n",
      "NaiveBayes Model Confusion Matrix\n",
      "[[1794  299]\n",
      " [ 160  547]]\n"
     ]
    }
   ],
   "source": [
    "y_nb_pred_test_res = nb_model_res.predict(X_test)\n",
    "score_model(y_test, y_nb_pred_test_res, False)"
   ]
  },
  {
   "cell_type": "code",
   "execution_count": 41,
   "id": "76c09d8b",
   "metadata": {},
   "outputs": [
    {
     "name": "stdout",
     "output_type": "stream",
     "text": [
      "NaiveBayes Model Accuracy Score: 0.836071\n",
      "NaiveBayes Model Precision Score: 0.782344\n",
      "NaiveBayes Model Recall Score: 0.815417\n",
      "NaiveBayes Model FScore: 0.795513\n",
      "NaiveBayes Model Confusion Matrix\n",
      "[[1794  299]\n",
      " [ 160  547]]\n"
     ]
    }
   ],
   "source": [
    "y_nb_pred_validate_res = nb_model_res.predict(X_validate)\n",
    "score_model(y_validate, y_nb_pred_validate_res, False)"
   ]
  },
  {
   "cell_type": "markdown",
   "id": "6468f8c5",
   "metadata": {},
   "source": [
    "## Preprocess Dataset with StopWords"
   ]
  },
  {
   "cell_type": "code",
   "execution_count": 42,
   "id": "9280408d",
   "metadata": {},
   "outputs": [],
   "source": [
    "df_train_wsw = pd.read_csv('../data/train.csv')[['text_a','label']] # drop row numbers column\n",
    "df_test_wsw = pd.read_csv('../data/test.csv')\n",
    "df_validate_wsw = pd.read_csv('../data/dev.csv')"
   ]
  },
  {
   "cell_type": "code",
   "execution_count": 43,
   "id": "5ac7df74",
   "metadata": {},
   "outputs": [],
   "source": [
    "df_train_wsw.text_a = df_train_wsw.text_a.apply(normalize_text, args=(False, False))\n",
    "df_test_wsw.text_a = df_test_wsw.text_a.apply(normalize_text, args=(False, False))\n",
    "df_validate_wsw.text_a = df_validate_wsw.text_a.apply(normalize_text, args=(False, False))"
   ]
  },
  {
   "cell_type": "code",
   "execution_count": 44,
   "id": "2439f346",
   "metadata": {},
   "outputs": [],
   "source": [
    "vectorizer_wsw = CountVectorizer(tokenizer=lambda x: x, preprocessor=lambda x: x)\n",
    "X_train_wsw, y_train_wsw = vectorizer_wsw.fit_transform(df_train_wsw.text_a), df_train_wsw.label\n",
    "X_test_wsw, y_test_wsw = vectorizer_wsw.transform(df_test_wsw.text_a), df_test_wsw.label\n",
    "X_validate_wsw, y_validate_wsw = vectorizer_wsw.transform(df_validate_wsw.text_a), df_validate_wsw.label"
   ]
  },
  {
   "cell_type": "markdown",
   "id": "a7660151",
   "metadata": {},
   "source": [
    "## Linear SVM Model using Data with StopWords"
   ]
  },
  {
   "cell_type": "markdown",
   "id": "8e1cb45d",
   "metadata": {},
   "source": [
    "### Training Linear SVM Model using Data with StopWords"
   ]
  },
  {
   "cell_type": "code",
   "execution_count": 45,
   "id": "f5f94be3",
   "metadata": {},
   "outputs": [
    {
     "data": {
      "text/html": [
       "<style>#sk-container-id-7 {color: black;background-color: white;}#sk-container-id-7 pre{padding: 0;}#sk-container-id-7 div.sk-toggleable {background-color: white;}#sk-container-id-7 label.sk-toggleable__label {cursor: pointer;display: block;width: 100%;margin-bottom: 0;padding: 0.3em;box-sizing: border-box;text-align: center;}#sk-container-id-7 label.sk-toggleable__label-arrow:before {content: \"▸\";float: left;margin-right: 0.25em;color: #696969;}#sk-container-id-7 label.sk-toggleable__label-arrow:hover:before {color: black;}#sk-container-id-7 div.sk-estimator:hover label.sk-toggleable__label-arrow:before {color: black;}#sk-container-id-7 div.sk-toggleable__content {max-height: 0;max-width: 0;overflow: hidden;text-align: left;background-color: #f0f8ff;}#sk-container-id-7 div.sk-toggleable__content pre {margin: 0.2em;color: black;border-radius: 0.25em;background-color: #f0f8ff;}#sk-container-id-7 input.sk-toggleable__control:checked~div.sk-toggleable__content {max-height: 200px;max-width: 100%;overflow: auto;}#sk-container-id-7 input.sk-toggleable__control:checked~label.sk-toggleable__label-arrow:before {content: \"▾\";}#sk-container-id-7 div.sk-estimator input.sk-toggleable__control:checked~label.sk-toggleable__label {background-color: #d4ebff;}#sk-container-id-7 div.sk-label input.sk-toggleable__control:checked~label.sk-toggleable__label {background-color: #d4ebff;}#sk-container-id-7 input.sk-hidden--visually {border: 0;clip: rect(1px 1px 1px 1px);clip: rect(1px, 1px, 1px, 1px);height: 1px;margin: -1px;overflow: hidden;padding: 0;position: absolute;width: 1px;}#sk-container-id-7 div.sk-estimator {font-family: monospace;background-color: #f0f8ff;border: 1px dotted black;border-radius: 0.25em;box-sizing: border-box;margin-bottom: 0.5em;}#sk-container-id-7 div.sk-estimator:hover {background-color: #d4ebff;}#sk-container-id-7 div.sk-parallel-item::after {content: \"\";width: 100%;border-bottom: 1px solid gray;flex-grow: 1;}#sk-container-id-7 div.sk-label:hover label.sk-toggleable__label {background-color: #d4ebff;}#sk-container-id-7 div.sk-serial::before {content: \"\";position: absolute;border-left: 1px solid gray;box-sizing: border-box;top: 0;bottom: 0;left: 50%;z-index: 0;}#sk-container-id-7 div.sk-serial {display: flex;flex-direction: column;align-items: center;background-color: white;padding-right: 0.2em;padding-left: 0.2em;position: relative;}#sk-container-id-7 div.sk-item {position: relative;z-index: 1;}#sk-container-id-7 div.sk-parallel {display: flex;align-items: stretch;justify-content: center;background-color: white;position: relative;}#sk-container-id-7 div.sk-item::before, #sk-container-id-7 div.sk-parallel-item::before {content: \"\";position: absolute;border-left: 1px solid gray;box-sizing: border-box;top: 0;bottom: 0;left: 50%;z-index: -1;}#sk-container-id-7 div.sk-parallel-item {display: flex;flex-direction: column;z-index: 1;position: relative;background-color: white;}#sk-container-id-7 div.sk-parallel-item:first-child::after {align-self: flex-end;width: 50%;}#sk-container-id-7 div.sk-parallel-item:last-child::after {align-self: flex-start;width: 50%;}#sk-container-id-7 div.sk-parallel-item:only-child::after {width: 0;}#sk-container-id-7 div.sk-dashed-wrapped {border: 1px dashed gray;margin: 0 0.4em 0.5em 0.4em;box-sizing: border-box;padding-bottom: 0.4em;background-color: white;}#sk-container-id-7 div.sk-label label {font-family: monospace;font-weight: bold;display: inline-block;line-height: 1.2em;}#sk-container-id-7 div.sk-label-container {text-align: center;}#sk-container-id-7 div.sk-container {/* jupyter's `normalize.less` sets `[hidden] { display: none; }` but bootstrap.min.css set `[hidden] { display: none !important; }` so we also need the `!important` here to be able to override the default hidden behavior on the sphinx rendered scikit-learn.org. See: https://github.com/scikit-learn/scikit-learn/issues/21755 */display: inline-block !important;position: relative;}#sk-container-id-7 div.sk-text-repr-fallback {display: none;}</style><div id=\"sk-container-id-7\" class=\"sk-top-container\"><div class=\"sk-text-repr-fallback\"><pre>SVC(gamma=&#x27;auto&#x27;, kernel=&#x27;linear&#x27;)</pre><b>In a Jupyter environment, please rerun this cell to show the HTML representation or trust the notebook. <br />On GitHub, the HTML representation is unable to render, please try loading this page with nbviewer.org.</b></div><div class=\"sk-container\" hidden><div class=\"sk-item\"><div class=\"sk-estimator sk-toggleable\"><input class=\"sk-toggleable__control sk-hidden--visually\" id=\"sk-estimator-id-7\" type=\"checkbox\" checked><label for=\"sk-estimator-id-7\" class=\"sk-toggleable__label sk-toggleable__label-arrow\">SVC</label><div class=\"sk-toggleable__content\"><pre>SVC(gamma=&#x27;auto&#x27;, kernel=&#x27;linear&#x27;)</pre></div></div></div></div></div>"
      ],
      "text/plain": [
       "SVC(gamma='auto', kernel='linear')"
      ]
     },
     "execution_count": 45,
     "metadata": {},
     "output_type": "execute_result"
    }
   ],
   "source": [
    "svm_model_wsw = SVC(C=1.0, kernel='linear', degree=3, gamma='auto')\n",
    "svm_model_wsw.fit(X_train_wsw, y_train_wsw)"
   ]
  },
  {
   "cell_type": "markdown",
   "id": "3a1f3e31",
   "metadata": {},
   "source": [
    "### Scoring Linear SVM Model using Data with StopWords"
   ]
  },
  {
   "cell_type": "code",
   "execution_count": 46,
   "id": "11690ef0",
   "metadata": {},
   "outputs": [
    {
     "name": "stdout",
     "output_type": "stream",
     "text": [
      "SVM Model Accuracy Score: 0.988658\n",
      "SVM Model Precision Score: 0.985224\n",
      "SVM Model Recall Score: 0.986815\n",
      "SVM Model FScore: 0.986015\n",
      "SVM Model Confusion Matrix\n",
      "[[15373   139]\n",
      " [  106  5983]]\n"
     ]
    }
   ],
   "source": [
    "y_pred_train_wsw = svm_model_wsw.predict(X_train_wsw)\n",
    "score_model(y_train_wsw, y_pred_train_wsw)"
   ]
  },
  {
   "cell_type": "code",
   "execution_count": 47,
   "id": "43946cc1",
   "metadata": {},
   "outputs": [
    {
     "name": "stdout",
     "output_type": "stream",
     "text": [
      "SVM Model Accuracy Score: 0.833929\n",
      "SVM Model Precision Score: 0.779140\n",
      "SVM Model Recall Score: 0.802276\n",
      "SVM Model FScore: 0.789092\n",
      "SVM Model Confusion Matrix\n",
      "[[1813  280]\n",
      " [ 185  522]]\n"
     ]
    }
   ],
   "source": [
    "y_pred_test_wsw = svm_model_wsw.predict(X_test_wsw)\n",
    "score_model(y_test_wsw, y_pred_test_wsw)"
   ]
  },
  {
   "cell_type": "code",
   "execution_count": 48,
   "id": "4abc5ab5",
   "metadata": {},
   "outputs": [
    {
     "name": "stdout",
     "output_type": "stream",
     "text": [
      "SVM Model Accuracy Score: 0.833929\n",
      "SVM Model Precision Score: 0.779140\n",
      "SVM Model Recall Score: 0.802276\n",
      "SVM Model FScore: 0.789092\n",
      "SVM Model Confusion Matrix\n",
      "[[1813  280]\n",
      " [ 185  522]]\n"
     ]
    }
   ],
   "source": [
    "y_pred_validate_wsw = svm_model_wsw.predict(X_validate_wsw)\n",
    "score_model(y_validate_wsw, y_pred_validate_wsw)"
   ]
  },
  {
   "cell_type": "markdown",
   "id": "757c04d6",
   "metadata": {},
   "source": [
    "## Naive Bayes Model using Data with StopWords"
   ]
  },
  {
   "cell_type": "markdown",
   "id": "6208414b",
   "metadata": {},
   "source": [
    "### Training Naive Bayes Model using Data with StopWords"
   ]
  },
  {
   "cell_type": "code",
   "execution_count": 49,
   "id": "ad7f9c8b",
   "metadata": {},
   "outputs": [
    {
     "data": {
      "text/html": [
       "<style>#sk-container-id-8 {color: black;background-color: white;}#sk-container-id-8 pre{padding: 0;}#sk-container-id-8 div.sk-toggleable {background-color: white;}#sk-container-id-8 label.sk-toggleable__label {cursor: pointer;display: block;width: 100%;margin-bottom: 0;padding: 0.3em;box-sizing: border-box;text-align: center;}#sk-container-id-8 label.sk-toggleable__label-arrow:before {content: \"▸\";float: left;margin-right: 0.25em;color: #696969;}#sk-container-id-8 label.sk-toggleable__label-arrow:hover:before {color: black;}#sk-container-id-8 div.sk-estimator:hover label.sk-toggleable__label-arrow:before {color: black;}#sk-container-id-8 div.sk-toggleable__content {max-height: 0;max-width: 0;overflow: hidden;text-align: left;background-color: #f0f8ff;}#sk-container-id-8 div.sk-toggleable__content pre {margin: 0.2em;color: black;border-radius: 0.25em;background-color: #f0f8ff;}#sk-container-id-8 input.sk-toggleable__control:checked~div.sk-toggleable__content {max-height: 200px;max-width: 100%;overflow: auto;}#sk-container-id-8 input.sk-toggleable__control:checked~label.sk-toggleable__label-arrow:before {content: \"▾\";}#sk-container-id-8 div.sk-estimator input.sk-toggleable__control:checked~label.sk-toggleable__label {background-color: #d4ebff;}#sk-container-id-8 div.sk-label input.sk-toggleable__control:checked~label.sk-toggleable__label {background-color: #d4ebff;}#sk-container-id-8 input.sk-hidden--visually {border: 0;clip: rect(1px 1px 1px 1px);clip: rect(1px, 1px, 1px, 1px);height: 1px;margin: -1px;overflow: hidden;padding: 0;position: absolute;width: 1px;}#sk-container-id-8 div.sk-estimator {font-family: monospace;background-color: #f0f8ff;border: 1px dotted black;border-radius: 0.25em;box-sizing: border-box;margin-bottom: 0.5em;}#sk-container-id-8 div.sk-estimator:hover {background-color: #d4ebff;}#sk-container-id-8 div.sk-parallel-item::after {content: \"\";width: 100%;border-bottom: 1px solid gray;flex-grow: 1;}#sk-container-id-8 div.sk-label:hover label.sk-toggleable__label {background-color: #d4ebff;}#sk-container-id-8 div.sk-serial::before {content: \"\";position: absolute;border-left: 1px solid gray;box-sizing: border-box;top: 0;bottom: 0;left: 50%;z-index: 0;}#sk-container-id-8 div.sk-serial {display: flex;flex-direction: column;align-items: center;background-color: white;padding-right: 0.2em;padding-left: 0.2em;position: relative;}#sk-container-id-8 div.sk-item {position: relative;z-index: 1;}#sk-container-id-8 div.sk-parallel {display: flex;align-items: stretch;justify-content: center;background-color: white;position: relative;}#sk-container-id-8 div.sk-item::before, #sk-container-id-8 div.sk-parallel-item::before {content: \"\";position: absolute;border-left: 1px solid gray;box-sizing: border-box;top: 0;bottom: 0;left: 50%;z-index: -1;}#sk-container-id-8 div.sk-parallel-item {display: flex;flex-direction: column;z-index: 1;position: relative;background-color: white;}#sk-container-id-8 div.sk-parallel-item:first-child::after {align-self: flex-end;width: 50%;}#sk-container-id-8 div.sk-parallel-item:last-child::after {align-self: flex-start;width: 50%;}#sk-container-id-8 div.sk-parallel-item:only-child::after {width: 0;}#sk-container-id-8 div.sk-dashed-wrapped {border: 1px dashed gray;margin: 0 0.4em 0.5em 0.4em;box-sizing: border-box;padding-bottom: 0.4em;background-color: white;}#sk-container-id-8 div.sk-label label {font-family: monospace;font-weight: bold;display: inline-block;line-height: 1.2em;}#sk-container-id-8 div.sk-label-container {text-align: center;}#sk-container-id-8 div.sk-container {/* jupyter's `normalize.less` sets `[hidden] { display: none; }` but bootstrap.min.css set `[hidden] { display: none !important; }` so we also need the `!important` here to be able to override the default hidden behavior on the sphinx rendered scikit-learn.org. See: https://github.com/scikit-learn/scikit-learn/issues/21755 */display: inline-block !important;position: relative;}#sk-container-id-8 div.sk-text-repr-fallback {display: none;}</style><div id=\"sk-container-id-8\" class=\"sk-top-container\"><div class=\"sk-text-repr-fallback\"><pre>MultinomialNB()</pre><b>In a Jupyter environment, please rerun this cell to show the HTML representation or trust the notebook. <br />On GitHub, the HTML representation is unable to render, please try loading this page with nbviewer.org.</b></div><div class=\"sk-container\" hidden><div class=\"sk-item\"><div class=\"sk-estimator sk-toggleable\"><input class=\"sk-toggleable__control sk-hidden--visually\" id=\"sk-estimator-id-8\" type=\"checkbox\" checked><label for=\"sk-estimator-id-8\" class=\"sk-toggleable__label sk-toggleable__label-arrow\">MultinomialNB</label><div class=\"sk-toggleable__content\"><pre>MultinomialNB()</pre></div></div></div></div></div>"
      ],
      "text/plain": [
       "MultinomialNB()"
      ]
     },
     "execution_count": 49,
     "metadata": {},
     "output_type": "execute_result"
    }
   ],
   "source": [
    "nb_model_wsw = MultinomialNB()\n",
    "nb_model_wsw.fit(X_train_wsw, y_train_wsw)"
   ]
  },
  {
   "cell_type": "markdown",
   "id": "fe6d7d9b",
   "metadata": {},
   "source": [
    "### Scoring Naive Bayes Model using Data with StopWords"
   ]
  },
  {
   "cell_type": "code",
   "execution_count": 77,
   "id": "bfe3e2ba",
   "metadata": {},
   "outputs": [
    {
     "name": "stdout",
     "output_type": "stream",
     "text": [
      "SVM Model Accuracy Score: 0.901116\n",
      "SVM Model Precision Score: 0.872708\n",
      "SVM Model Recall Score: 0.890446\n",
      "SVM Model FScore: 0.880793\n",
      "SVM Model Confusion Matrix\n",
      "[[14192  1320]\n",
      " [  816  5273]]\n"
     ]
    }
   ],
   "source": [
    "y_nb_pred_train_wsw = nb_model_wsw.predict(X_train_wsw)\n",
    "score_model(y_train_wsw, y_nb_pred_train_wsw)"
   ]
  },
  {
   "cell_type": "code",
   "execution_count": 51,
   "id": "e261074e",
   "metadata": {},
   "outputs": [
    {
     "name": "stdout",
     "output_type": "stream",
     "text": [
      "SVM Model Accuracy Score: 0.869643\n",
      "SVM Model Precision Score: 0.834547\n",
      "SVM Model Recall Score: 0.809774\n",
      "SVM Model FScore: 0.820874\n",
      "SVM Model Confusion Matrix\n",
      "[[1948  145]\n",
      " [ 220  487]]\n"
     ]
    }
   ],
   "source": [
    "y_nb_pred_test_wsw = nb_model_wsw.predict(X_test_wsw)\n",
    "score_model(y_test_wsw, y_nb_pred_test_wsw)"
   ]
  },
  {
   "cell_type": "code",
   "execution_count": 52,
   "id": "2a7a0781",
   "metadata": {},
   "outputs": [
    {
     "name": "stdout",
     "output_type": "stream",
     "text": [
      "SVM Model Accuracy Score: 0.869643\n",
      "SVM Model Precision Score: 0.834547\n",
      "SVM Model Recall Score: 0.809774\n",
      "SVM Model FScore: 0.820874\n",
      "SVM Model Confusion Matrix\n",
      "[[1948  145]\n",
      " [ 220  487]]\n"
     ]
    }
   ],
   "source": [
    "y_nb_pred_validate_wsw = nb_model_wsw.predict(X_validate_wsw)\n",
    "score_model(y_validate_wsw, y_nb_pred_validate_wsw)"
   ]
  },
  {
   "cell_type": "markdown",
   "id": "199da35c",
   "metadata": {},
   "source": [
    "## Bigram-Trigram"
   ]
  },
  {
   "cell_type": "code",
   "execution_count": 53,
   "id": "390971a5",
   "metadata": {},
   "outputs": [],
   "source": [
    "df_train_bg = pd.read_csv('../data/train.csv')[['text_a','label']] # drop row numbers column\n",
    "df_test_bg = pd.read_csv('../data/test.csv')\n",
    "df_validate_bg = pd.read_csv('../data/dev.csv')"
   ]
  },
  {
   "cell_type": "code",
   "execution_count": 54,
   "id": "ccc3250e",
   "metadata": {},
   "outputs": [],
   "source": [
    "df_train_bg.text_a = df_train_bg.text_a.apply(normalize_text, args=(False, True))\n",
    "df_test_bg.text_a = df_test_bg.text_a.apply(normalize_text, args=(False, True))\n",
    "df_validate_bg.text_a = df_validate_bg.text_a.apply(normalize_text, args=(False, True))"
   ]
  },
  {
   "cell_type": "code",
   "execution_count": 55,
   "id": "17a12998",
   "metadata": {},
   "outputs": [
    {
     "name": "stdout",
     "output_type": "stream",
     "text": [
      "153416\n"
     ]
    }
   ],
   "source": [
    "vectorizer_bg = CountVectorizer(tokenizer=lambda x: x, preprocessor=lambda x: x, ngram_range=(2,2))\n",
    "X_train_bg, y_train_bg = vectorizer_bg.fit_transform(df_train_bg.text_a), df_train_bg.label\n",
    "X_test_bg, y_test_bg = vectorizer_bg.transform(df_test_bg.text_a), df_test_bg.label\n",
    "X_validate_bg, y_validate_bg = vectorizer_bg.transform(df_validate_bg.text_a), df_validate_bg.label\n",
    "print(len(vectorizer_bg.get_feature_names_out()))"
   ]
  },
  {
   "cell_type": "markdown",
   "id": "3c22ea31",
   "metadata": {},
   "source": [
    "## Linear SVM Model using Bigram Data"
   ]
  },
  {
   "cell_type": "markdown",
   "id": "d9ddb0e0",
   "metadata": {},
   "source": [
    "### Training Linear SVM Model using Bigram Data"
   ]
  },
  {
   "cell_type": "code",
   "execution_count": 56,
   "id": "0e976a88",
   "metadata": {},
   "outputs": [
    {
     "data": {
      "text/html": [
       "<style>#sk-container-id-9 {color: black;background-color: white;}#sk-container-id-9 pre{padding: 0;}#sk-container-id-9 div.sk-toggleable {background-color: white;}#sk-container-id-9 label.sk-toggleable__label {cursor: pointer;display: block;width: 100%;margin-bottom: 0;padding: 0.3em;box-sizing: border-box;text-align: center;}#sk-container-id-9 label.sk-toggleable__label-arrow:before {content: \"▸\";float: left;margin-right: 0.25em;color: #696969;}#sk-container-id-9 label.sk-toggleable__label-arrow:hover:before {color: black;}#sk-container-id-9 div.sk-estimator:hover label.sk-toggleable__label-arrow:before {color: black;}#sk-container-id-9 div.sk-toggleable__content {max-height: 0;max-width: 0;overflow: hidden;text-align: left;background-color: #f0f8ff;}#sk-container-id-9 div.sk-toggleable__content pre {margin: 0.2em;color: black;border-radius: 0.25em;background-color: #f0f8ff;}#sk-container-id-9 input.sk-toggleable__control:checked~div.sk-toggleable__content {max-height: 200px;max-width: 100%;overflow: auto;}#sk-container-id-9 input.sk-toggleable__control:checked~label.sk-toggleable__label-arrow:before {content: \"▾\";}#sk-container-id-9 div.sk-estimator input.sk-toggleable__control:checked~label.sk-toggleable__label {background-color: #d4ebff;}#sk-container-id-9 div.sk-label input.sk-toggleable__control:checked~label.sk-toggleable__label {background-color: #d4ebff;}#sk-container-id-9 input.sk-hidden--visually {border: 0;clip: rect(1px 1px 1px 1px);clip: rect(1px, 1px, 1px, 1px);height: 1px;margin: -1px;overflow: hidden;padding: 0;position: absolute;width: 1px;}#sk-container-id-9 div.sk-estimator {font-family: monospace;background-color: #f0f8ff;border: 1px dotted black;border-radius: 0.25em;box-sizing: border-box;margin-bottom: 0.5em;}#sk-container-id-9 div.sk-estimator:hover {background-color: #d4ebff;}#sk-container-id-9 div.sk-parallel-item::after {content: \"\";width: 100%;border-bottom: 1px solid gray;flex-grow: 1;}#sk-container-id-9 div.sk-label:hover label.sk-toggleable__label {background-color: #d4ebff;}#sk-container-id-9 div.sk-serial::before {content: \"\";position: absolute;border-left: 1px solid gray;box-sizing: border-box;top: 0;bottom: 0;left: 50%;z-index: 0;}#sk-container-id-9 div.sk-serial {display: flex;flex-direction: column;align-items: center;background-color: white;padding-right: 0.2em;padding-left: 0.2em;position: relative;}#sk-container-id-9 div.sk-item {position: relative;z-index: 1;}#sk-container-id-9 div.sk-parallel {display: flex;align-items: stretch;justify-content: center;background-color: white;position: relative;}#sk-container-id-9 div.sk-item::before, #sk-container-id-9 div.sk-parallel-item::before {content: \"\";position: absolute;border-left: 1px solid gray;box-sizing: border-box;top: 0;bottom: 0;left: 50%;z-index: -1;}#sk-container-id-9 div.sk-parallel-item {display: flex;flex-direction: column;z-index: 1;position: relative;background-color: white;}#sk-container-id-9 div.sk-parallel-item:first-child::after {align-self: flex-end;width: 50%;}#sk-container-id-9 div.sk-parallel-item:last-child::after {align-self: flex-start;width: 50%;}#sk-container-id-9 div.sk-parallel-item:only-child::after {width: 0;}#sk-container-id-9 div.sk-dashed-wrapped {border: 1px dashed gray;margin: 0 0.4em 0.5em 0.4em;box-sizing: border-box;padding-bottom: 0.4em;background-color: white;}#sk-container-id-9 div.sk-label label {font-family: monospace;font-weight: bold;display: inline-block;line-height: 1.2em;}#sk-container-id-9 div.sk-label-container {text-align: center;}#sk-container-id-9 div.sk-container {/* jupyter's `normalize.less` sets `[hidden] { display: none; }` but bootstrap.min.css set `[hidden] { display: none !important; }` so we also need the `!important` here to be able to override the default hidden behavior on the sphinx rendered scikit-learn.org. See: https://github.com/scikit-learn/scikit-learn/issues/21755 */display: inline-block !important;position: relative;}#sk-container-id-9 div.sk-text-repr-fallback {display: none;}</style><div id=\"sk-container-id-9\" class=\"sk-top-container\"><div class=\"sk-text-repr-fallback\"><pre>SVC(gamma=&#x27;auto&#x27;, kernel=&#x27;linear&#x27;)</pre><b>In a Jupyter environment, please rerun this cell to show the HTML representation or trust the notebook. <br />On GitHub, the HTML representation is unable to render, please try loading this page with nbviewer.org.</b></div><div class=\"sk-container\" hidden><div class=\"sk-item\"><div class=\"sk-estimator sk-toggleable\"><input class=\"sk-toggleable__control sk-hidden--visually\" id=\"sk-estimator-id-9\" type=\"checkbox\" checked><label for=\"sk-estimator-id-9\" class=\"sk-toggleable__label sk-toggleable__label-arrow\">SVC</label><div class=\"sk-toggleable__content\"><pre>SVC(gamma=&#x27;auto&#x27;, kernel=&#x27;linear&#x27;)</pre></div></div></div></div></div>"
      ],
      "text/plain": [
       "SVC(gamma='auto', kernel='linear')"
      ]
     },
     "execution_count": 56,
     "metadata": {},
     "output_type": "execute_result"
    }
   ],
   "source": [
    "svm_model_bg = SVC(C=1.0, kernel='linear', degree=3, gamma='auto')\n",
    "svm_model_bg.fit(X_train_bg, y_train_bg)"
   ]
  },
  {
   "cell_type": "markdown",
   "id": "9cb2962a",
   "metadata": {},
   "source": [
    "### Scoring Linear SVM Model using Bigram Data"
   ]
  },
  {
   "cell_type": "code",
   "execution_count": 57,
   "id": "0a6e8e44",
   "metadata": {},
   "outputs": [
    {
     "name": "stdout",
     "output_type": "stream",
     "text": [
      "SVM Model Accuracy Score: 0.993010\n",
      "SVM Model Precision Score: 0.990298\n",
      "SVM Model Recall Score: 0.992489\n",
      "SVM Model FScore: 0.991386\n",
      "SVM Model Confusion Matrix\n",
      "[[15414    98]\n",
      " [   53  6036]]\n"
     ]
    }
   ],
   "source": [
    "y_pred_train_bg = svm_model_bg.predict(X_train_bg)\n",
    "score_model(y_train_bg, y_pred_train_bg)"
   ]
  },
  {
   "cell_type": "code",
   "execution_count": 58,
   "id": "bbf16bc2",
   "metadata": {},
   "outputs": [
    {
     "name": "stdout",
     "output_type": "stream",
     "text": [
      "SVM Model Accuracy Score: 0.828929\n",
      "SVM Model Precision Score: 0.778714\n",
      "SVM Model Recall Score: 0.747416\n",
      "SVM Model FScore: 0.760457\n",
      "SVM Model Confusion Matrix\n",
      "[[1909  184]\n",
      " [ 295  412]]\n"
     ]
    }
   ],
   "source": [
    "y_pred_test_bg = svm_model_bg.predict(X_test_bg)\n",
    "score_model(y_test_bg, y_pred_test_bg)"
   ]
  },
  {
   "cell_type": "code",
   "execution_count": 59,
   "id": "18b955e7",
   "metadata": {},
   "outputs": [
    {
     "name": "stdout",
     "output_type": "stream",
     "text": [
      "SVM Model Accuracy Score: 0.828929\n",
      "SVM Model Precision Score: 0.778714\n",
      "SVM Model Recall Score: 0.747416\n",
      "SVM Model FScore: 0.760457\n",
      "SVM Model Confusion Matrix\n",
      "[[1909  184]\n",
      " [ 295  412]]\n"
     ]
    }
   ],
   "source": [
    "y_pred_validate_bg = svm_model_bg.predict(X_validate_bg)\n",
    "score_model(y_validate_bg, y_pred_validate_bg)"
   ]
  },
  {
   "cell_type": "markdown",
   "id": "70e6c127",
   "metadata": {},
   "source": [
    "## Naive Bayes Model with Bigram Data"
   ]
  },
  {
   "cell_type": "markdown",
   "id": "2bfb0e6e",
   "metadata": {},
   "source": [
    "### Training Naive Bayes Model with Bigram Data"
   ]
  },
  {
   "cell_type": "code",
   "execution_count": 60,
   "id": "07ee8215",
   "metadata": {},
   "outputs": [
    {
     "data": {
      "text/html": [
       "<style>#sk-container-id-10 {color: black;background-color: white;}#sk-container-id-10 pre{padding: 0;}#sk-container-id-10 div.sk-toggleable {background-color: white;}#sk-container-id-10 label.sk-toggleable__label {cursor: pointer;display: block;width: 100%;margin-bottom: 0;padding: 0.3em;box-sizing: border-box;text-align: center;}#sk-container-id-10 label.sk-toggleable__label-arrow:before {content: \"▸\";float: left;margin-right: 0.25em;color: #696969;}#sk-container-id-10 label.sk-toggleable__label-arrow:hover:before {color: black;}#sk-container-id-10 div.sk-estimator:hover label.sk-toggleable__label-arrow:before {color: black;}#sk-container-id-10 div.sk-toggleable__content {max-height: 0;max-width: 0;overflow: hidden;text-align: left;background-color: #f0f8ff;}#sk-container-id-10 div.sk-toggleable__content pre {margin: 0.2em;color: black;border-radius: 0.25em;background-color: #f0f8ff;}#sk-container-id-10 input.sk-toggleable__control:checked~div.sk-toggleable__content {max-height: 200px;max-width: 100%;overflow: auto;}#sk-container-id-10 input.sk-toggleable__control:checked~label.sk-toggleable__label-arrow:before {content: \"▾\";}#sk-container-id-10 div.sk-estimator input.sk-toggleable__control:checked~label.sk-toggleable__label {background-color: #d4ebff;}#sk-container-id-10 div.sk-label input.sk-toggleable__control:checked~label.sk-toggleable__label {background-color: #d4ebff;}#sk-container-id-10 input.sk-hidden--visually {border: 0;clip: rect(1px 1px 1px 1px);clip: rect(1px, 1px, 1px, 1px);height: 1px;margin: -1px;overflow: hidden;padding: 0;position: absolute;width: 1px;}#sk-container-id-10 div.sk-estimator {font-family: monospace;background-color: #f0f8ff;border: 1px dotted black;border-radius: 0.25em;box-sizing: border-box;margin-bottom: 0.5em;}#sk-container-id-10 div.sk-estimator:hover {background-color: #d4ebff;}#sk-container-id-10 div.sk-parallel-item::after {content: \"\";width: 100%;border-bottom: 1px solid gray;flex-grow: 1;}#sk-container-id-10 div.sk-label:hover label.sk-toggleable__label {background-color: #d4ebff;}#sk-container-id-10 div.sk-serial::before {content: \"\";position: absolute;border-left: 1px solid gray;box-sizing: border-box;top: 0;bottom: 0;left: 50%;z-index: 0;}#sk-container-id-10 div.sk-serial {display: flex;flex-direction: column;align-items: center;background-color: white;padding-right: 0.2em;padding-left: 0.2em;position: relative;}#sk-container-id-10 div.sk-item {position: relative;z-index: 1;}#sk-container-id-10 div.sk-parallel {display: flex;align-items: stretch;justify-content: center;background-color: white;position: relative;}#sk-container-id-10 div.sk-item::before, #sk-container-id-10 div.sk-parallel-item::before {content: \"\";position: absolute;border-left: 1px solid gray;box-sizing: border-box;top: 0;bottom: 0;left: 50%;z-index: -1;}#sk-container-id-10 div.sk-parallel-item {display: flex;flex-direction: column;z-index: 1;position: relative;background-color: white;}#sk-container-id-10 div.sk-parallel-item:first-child::after {align-self: flex-end;width: 50%;}#sk-container-id-10 div.sk-parallel-item:last-child::after {align-self: flex-start;width: 50%;}#sk-container-id-10 div.sk-parallel-item:only-child::after {width: 0;}#sk-container-id-10 div.sk-dashed-wrapped {border: 1px dashed gray;margin: 0 0.4em 0.5em 0.4em;box-sizing: border-box;padding-bottom: 0.4em;background-color: white;}#sk-container-id-10 div.sk-label label {font-family: monospace;font-weight: bold;display: inline-block;line-height: 1.2em;}#sk-container-id-10 div.sk-label-container {text-align: center;}#sk-container-id-10 div.sk-container {/* jupyter's `normalize.less` sets `[hidden] { display: none; }` but bootstrap.min.css set `[hidden] { display: none !important; }` so we also need the `!important` here to be able to override the default hidden behavior on the sphinx rendered scikit-learn.org. See: https://github.com/scikit-learn/scikit-learn/issues/21755 */display: inline-block !important;position: relative;}#sk-container-id-10 div.sk-text-repr-fallback {display: none;}</style><div id=\"sk-container-id-10\" class=\"sk-top-container\"><div class=\"sk-text-repr-fallback\"><pre>MultinomialNB()</pre><b>In a Jupyter environment, please rerun this cell to show the HTML representation or trust the notebook. <br />On GitHub, the HTML representation is unable to render, please try loading this page with nbviewer.org.</b></div><div class=\"sk-container\" hidden><div class=\"sk-item\"><div class=\"sk-estimator sk-toggleable\"><input class=\"sk-toggleable__control sk-hidden--visually\" id=\"sk-estimator-id-10\" type=\"checkbox\" checked><label for=\"sk-estimator-id-10\" class=\"sk-toggleable__label sk-toggleable__label-arrow\">MultinomialNB</label><div class=\"sk-toggleable__content\"><pre>MultinomialNB()</pre></div></div></div></div></div>"
      ],
      "text/plain": [
       "MultinomialNB()"
      ]
     },
     "execution_count": 60,
     "metadata": {},
     "output_type": "execute_result"
    }
   ],
   "source": [
    "nb_model_bg = MultinomialNB()\n",
    "nb_model_bg.fit(X_train_bg, y_train_bg)"
   ]
  },
  {
   "cell_type": "markdown",
   "id": "5efccf0b",
   "metadata": {},
   "source": [
    "### Scoring Naive Bayes Model with Bigram Data"
   ]
  },
  {
   "cell_type": "code",
   "execution_count": 61,
   "id": "4de23bb4",
   "metadata": {},
   "outputs": [
    {
     "name": "stdout",
     "output_type": "stream",
     "text": [
      "SVM Model Accuracy Score: 0.977084\n",
      "SVM Model Precision Score: 0.965134\n",
      "SVM Model Recall Score: 0.979954\n",
      "SVM Model FScore: 0.972151\n",
      "SVM Model Confusion Matrix\n",
      "[[15099   413]\n",
      " [   82  6007]]\n"
     ]
    }
   ],
   "source": [
    "y_nb_pred_train_bg = nb_model_bg.predict(X_train_bg)\n",
    "score_model(y_train_bg, y_nb_pred_train_bg)"
   ]
  },
  {
   "cell_type": "code",
   "execution_count": 62,
   "id": "d6098bc6",
   "metadata": {},
   "outputs": [
    {
     "name": "stdout",
     "output_type": "stream",
     "text": [
      "SVM Model Accuracy Score: 0.834643\n",
      "SVM Model Precision Score: 0.780784\n",
      "SVM Model Recall Score: 0.782616\n",
      "SVM Model FScore: 0.781691\n",
      "SVM Model Confusion Matrix\n",
      "[[1858  235]\n",
      " [ 228  479]]\n"
     ]
    }
   ],
   "source": [
    "y_nb_pred_test_bg = nb_model_bg.predict(X_test_bg)\n",
    "score_model(y_test_bg, y_nb_pred_test_bg)"
   ]
  },
  {
   "cell_type": "code",
   "execution_count": 63,
   "id": "e0cfb46e",
   "metadata": {},
   "outputs": [
    {
     "name": "stdout",
     "output_type": "stream",
     "text": [
      "SVM Model Accuracy Score: 0.834643\n",
      "SVM Model Precision Score: 0.780784\n",
      "SVM Model Recall Score: 0.782616\n",
      "SVM Model FScore: 0.781691\n",
      "SVM Model Confusion Matrix\n",
      "[[1858  235]\n",
      " [ 228  479]]\n"
     ]
    }
   ],
   "source": [
    "y_nb_pred_validate_bg = nb_model_bg.predict(X_validate_bg)\n",
    "score_model(y_validate_bg, y_nb_pred_validate_bg)"
   ]
  },
  {
   "cell_type": "code",
   "execution_count": 64,
   "id": "54168ae8",
   "metadata": {},
   "outputs": [],
   "source": [
    "df_train_tg = pd.read_csv('../data/train.csv')[['text_a','label']] # drop row numbers column\n",
    "df_test_tg = pd.read_csv('../data/test.csv')\n",
    "df_validate_tg = pd.read_csv('../data/dev.csv')"
   ]
  },
  {
   "cell_type": "code",
   "execution_count": 65,
   "id": "7e7ff5a1",
   "metadata": {},
   "outputs": [],
   "source": [
    "df_train_tg.text_a = df_train_tg.text_a.apply(normalize_text, args=(False, True))\n",
    "df_test_tg.text_a = df_test_tg.text_a.apply(normalize_text, args=(False, True))\n",
    "df_validate_tg.text_a = df_validate_tg.text_a.apply(normalize_text, args=(False, True))"
   ]
  },
  {
   "cell_type": "code",
   "execution_count": 66,
   "id": "29744a31",
   "metadata": {},
   "outputs": [
    {
     "name": "stdout",
     "output_type": "stream",
     "text": [
      "175324\n"
     ]
    }
   ],
   "source": [
    "vectorizer_tg = CountVectorizer(tokenizer=lambda x: x, preprocessor=lambda x: x, ngram_range=(3,3))\n",
    "X_train_tg, y_train_tg = vectorizer_tg.fit_transform(df_train_tg.text_a), df_train_tg.label\n",
    "X_test_tg, y_test_tg = vectorizer_tg.transform(df_test_tg.text_a), df_test_tg.label\n",
    "X_validate_tg, y_validate_tg = vectorizer_tg.transform(df_validate_tg.text_a), df_validate_tg.label\n",
    "print(len(vectorizer_tg.get_feature_names_out()))"
   ]
  },
  {
   "cell_type": "markdown",
   "id": "529cdffc",
   "metadata": {},
   "source": [
    "## Linear SVM Model using Trigram Data"
   ]
  },
  {
   "cell_type": "markdown",
   "id": "34865317",
   "metadata": {},
   "source": [
    "### Training Linear SVM Model using Trigram Data"
   ]
  },
  {
   "cell_type": "code",
   "execution_count": 67,
   "id": "554e205a",
   "metadata": {},
   "outputs": [
    {
     "data": {
      "text/html": [
       "<style>#sk-container-id-11 {color: black;background-color: white;}#sk-container-id-11 pre{padding: 0;}#sk-container-id-11 div.sk-toggleable {background-color: white;}#sk-container-id-11 label.sk-toggleable__label {cursor: pointer;display: block;width: 100%;margin-bottom: 0;padding: 0.3em;box-sizing: border-box;text-align: center;}#sk-container-id-11 label.sk-toggleable__label-arrow:before {content: \"▸\";float: left;margin-right: 0.25em;color: #696969;}#sk-container-id-11 label.sk-toggleable__label-arrow:hover:before {color: black;}#sk-container-id-11 div.sk-estimator:hover label.sk-toggleable__label-arrow:before {color: black;}#sk-container-id-11 div.sk-toggleable__content {max-height: 0;max-width: 0;overflow: hidden;text-align: left;background-color: #f0f8ff;}#sk-container-id-11 div.sk-toggleable__content pre {margin: 0.2em;color: black;border-radius: 0.25em;background-color: #f0f8ff;}#sk-container-id-11 input.sk-toggleable__control:checked~div.sk-toggleable__content {max-height: 200px;max-width: 100%;overflow: auto;}#sk-container-id-11 input.sk-toggleable__control:checked~label.sk-toggleable__label-arrow:before {content: \"▾\";}#sk-container-id-11 div.sk-estimator input.sk-toggleable__control:checked~label.sk-toggleable__label {background-color: #d4ebff;}#sk-container-id-11 div.sk-label input.sk-toggleable__control:checked~label.sk-toggleable__label {background-color: #d4ebff;}#sk-container-id-11 input.sk-hidden--visually {border: 0;clip: rect(1px 1px 1px 1px);clip: rect(1px, 1px, 1px, 1px);height: 1px;margin: -1px;overflow: hidden;padding: 0;position: absolute;width: 1px;}#sk-container-id-11 div.sk-estimator {font-family: monospace;background-color: #f0f8ff;border: 1px dotted black;border-radius: 0.25em;box-sizing: border-box;margin-bottom: 0.5em;}#sk-container-id-11 div.sk-estimator:hover {background-color: #d4ebff;}#sk-container-id-11 div.sk-parallel-item::after {content: \"\";width: 100%;border-bottom: 1px solid gray;flex-grow: 1;}#sk-container-id-11 div.sk-label:hover label.sk-toggleable__label {background-color: #d4ebff;}#sk-container-id-11 div.sk-serial::before {content: \"\";position: absolute;border-left: 1px solid gray;box-sizing: border-box;top: 0;bottom: 0;left: 50%;z-index: 0;}#sk-container-id-11 div.sk-serial {display: flex;flex-direction: column;align-items: center;background-color: white;padding-right: 0.2em;padding-left: 0.2em;position: relative;}#sk-container-id-11 div.sk-item {position: relative;z-index: 1;}#sk-container-id-11 div.sk-parallel {display: flex;align-items: stretch;justify-content: center;background-color: white;position: relative;}#sk-container-id-11 div.sk-item::before, #sk-container-id-11 div.sk-parallel-item::before {content: \"\";position: absolute;border-left: 1px solid gray;box-sizing: border-box;top: 0;bottom: 0;left: 50%;z-index: -1;}#sk-container-id-11 div.sk-parallel-item {display: flex;flex-direction: column;z-index: 1;position: relative;background-color: white;}#sk-container-id-11 div.sk-parallel-item:first-child::after {align-self: flex-end;width: 50%;}#sk-container-id-11 div.sk-parallel-item:last-child::after {align-self: flex-start;width: 50%;}#sk-container-id-11 div.sk-parallel-item:only-child::after {width: 0;}#sk-container-id-11 div.sk-dashed-wrapped {border: 1px dashed gray;margin: 0 0.4em 0.5em 0.4em;box-sizing: border-box;padding-bottom: 0.4em;background-color: white;}#sk-container-id-11 div.sk-label label {font-family: monospace;font-weight: bold;display: inline-block;line-height: 1.2em;}#sk-container-id-11 div.sk-label-container {text-align: center;}#sk-container-id-11 div.sk-container {/* jupyter's `normalize.less` sets `[hidden] { display: none; }` but bootstrap.min.css set `[hidden] { display: none !important; }` so we also need the `!important` here to be able to override the default hidden behavior on the sphinx rendered scikit-learn.org. See: https://github.com/scikit-learn/scikit-learn/issues/21755 */display: inline-block !important;position: relative;}#sk-container-id-11 div.sk-text-repr-fallback {display: none;}</style><div id=\"sk-container-id-11\" class=\"sk-top-container\"><div class=\"sk-text-repr-fallback\"><pre>SVC(gamma=&#x27;auto&#x27;, kernel=&#x27;linear&#x27;)</pre><b>In a Jupyter environment, please rerun this cell to show the HTML representation or trust the notebook. <br />On GitHub, the HTML representation is unable to render, please try loading this page with nbviewer.org.</b></div><div class=\"sk-container\" hidden><div class=\"sk-item\"><div class=\"sk-estimator sk-toggleable\"><input class=\"sk-toggleable__control sk-hidden--visually\" id=\"sk-estimator-id-11\" type=\"checkbox\" checked><label for=\"sk-estimator-id-11\" class=\"sk-toggleable__label sk-toggleable__label-arrow\">SVC</label><div class=\"sk-toggleable__content\"><pre>SVC(gamma=&#x27;auto&#x27;, kernel=&#x27;linear&#x27;)</pre></div></div></div></div></div>"
      ],
      "text/plain": [
       "SVC(gamma='auto', kernel='linear')"
      ]
     },
     "execution_count": 67,
     "metadata": {},
     "output_type": "execute_result"
    }
   ],
   "source": [
    "svm_model_tg = SVC(C=1.0, kernel='linear', degree=3, gamma='auto')\n",
    "svm_model_tg.fit(X_train_tg, y_train_tg)"
   ]
  },
  {
   "cell_type": "markdown",
   "id": "40b3697d",
   "metadata": {},
   "source": [
    "### Scoring Linear SVM Model using Trigram Data"
   ]
  },
  {
   "cell_type": "code",
   "execution_count": 68,
   "id": "d69f4885",
   "metadata": {},
   "outputs": [
    {
     "name": "stdout",
     "output_type": "stream",
     "text": [
      "SVM Model Accuracy Score: 0.991158\n",
      "SVM Model Precision Score: 0.989056\n",
      "SVM Model Recall Score: 0.989105\n",
      "SVM Model FScore: 0.989080\n",
      "SVM Model Confusion Matrix\n",
      "[[15416    96]\n",
      " [   95  5994]]\n"
     ]
    }
   ],
   "source": [
    "y_pred_train_tg = svm_model_tg.predict(X_train_tg)\n",
    "score_model(y_train_tg, y_pred_train_tg)"
   ]
  },
  {
   "cell_type": "code",
   "execution_count": 69,
   "id": "0e35dd7f",
   "metadata": {},
   "outputs": [
    {
     "name": "stdout",
     "output_type": "stream",
     "text": [
      "SVM Model Accuracy Score: 0.816786\n",
      "SVM Model Precision Score: 0.818723\n",
      "SVM Model Recall Score: 0.662489\n",
      "SVM Model FScore: 0.689918\n",
      "SVM Model Confusion Matrix\n",
      "[[2039   54]\n",
      " [ 459  248]]\n"
     ]
    }
   ],
   "source": [
    "y_pred_test_tg = svm_model_tg.predict(X_test_tg)\n",
    "score_model(y_test_tg, y_pred_test_tg)"
   ]
  },
  {
   "cell_type": "code",
   "execution_count": 70,
   "id": "7204fc3a",
   "metadata": {},
   "outputs": [
    {
     "name": "stdout",
     "output_type": "stream",
     "text": [
      "SVM Model Accuracy Score: 0.816786\n",
      "SVM Model Precision Score: 0.818723\n",
      "SVM Model Recall Score: 0.662489\n",
      "SVM Model FScore: 0.689918\n",
      "SVM Model Confusion Matrix\n",
      "[[2039   54]\n",
      " [ 459  248]]\n"
     ]
    }
   ],
   "source": [
    "y_pred_validate_tg = svm_model_tg.predict(X_validate_tg)\n",
    "score_model(y_validate_tg, y_pred_validate_tg)"
   ]
  },
  {
   "cell_type": "markdown",
   "id": "9bc4faae",
   "metadata": {},
   "source": [
    "## Naive Bayes Model using Trigram Data"
   ]
  },
  {
   "cell_type": "markdown",
   "id": "0710fc83",
   "metadata": {},
   "source": [
    "### Training Naive Bayes Model using Trigram Data"
   ]
  },
  {
   "cell_type": "code",
   "execution_count": 71,
   "id": "1be5e45b",
   "metadata": {},
   "outputs": [
    {
     "data": {
      "text/html": [
       "<style>#sk-container-id-12 {color: black;background-color: white;}#sk-container-id-12 pre{padding: 0;}#sk-container-id-12 div.sk-toggleable {background-color: white;}#sk-container-id-12 label.sk-toggleable__label {cursor: pointer;display: block;width: 100%;margin-bottom: 0;padding: 0.3em;box-sizing: border-box;text-align: center;}#sk-container-id-12 label.sk-toggleable__label-arrow:before {content: \"▸\";float: left;margin-right: 0.25em;color: #696969;}#sk-container-id-12 label.sk-toggleable__label-arrow:hover:before {color: black;}#sk-container-id-12 div.sk-estimator:hover label.sk-toggleable__label-arrow:before {color: black;}#sk-container-id-12 div.sk-toggleable__content {max-height: 0;max-width: 0;overflow: hidden;text-align: left;background-color: #f0f8ff;}#sk-container-id-12 div.sk-toggleable__content pre {margin: 0.2em;color: black;border-radius: 0.25em;background-color: #f0f8ff;}#sk-container-id-12 input.sk-toggleable__control:checked~div.sk-toggleable__content {max-height: 200px;max-width: 100%;overflow: auto;}#sk-container-id-12 input.sk-toggleable__control:checked~label.sk-toggleable__label-arrow:before {content: \"▾\";}#sk-container-id-12 div.sk-estimator input.sk-toggleable__control:checked~label.sk-toggleable__label {background-color: #d4ebff;}#sk-container-id-12 div.sk-label input.sk-toggleable__control:checked~label.sk-toggleable__label {background-color: #d4ebff;}#sk-container-id-12 input.sk-hidden--visually {border: 0;clip: rect(1px 1px 1px 1px);clip: rect(1px, 1px, 1px, 1px);height: 1px;margin: -1px;overflow: hidden;padding: 0;position: absolute;width: 1px;}#sk-container-id-12 div.sk-estimator {font-family: monospace;background-color: #f0f8ff;border: 1px dotted black;border-radius: 0.25em;box-sizing: border-box;margin-bottom: 0.5em;}#sk-container-id-12 div.sk-estimator:hover {background-color: #d4ebff;}#sk-container-id-12 div.sk-parallel-item::after {content: \"\";width: 100%;border-bottom: 1px solid gray;flex-grow: 1;}#sk-container-id-12 div.sk-label:hover label.sk-toggleable__label {background-color: #d4ebff;}#sk-container-id-12 div.sk-serial::before {content: \"\";position: absolute;border-left: 1px solid gray;box-sizing: border-box;top: 0;bottom: 0;left: 50%;z-index: 0;}#sk-container-id-12 div.sk-serial {display: flex;flex-direction: column;align-items: center;background-color: white;padding-right: 0.2em;padding-left: 0.2em;position: relative;}#sk-container-id-12 div.sk-item {position: relative;z-index: 1;}#sk-container-id-12 div.sk-parallel {display: flex;align-items: stretch;justify-content: center;background-color: white;position: relative;}#sk-container-id-12 div.sk-item::before, #sk-container-id-12 div.sk-parallel-item::before {content: \"\";position: absolute;border-left: 1px solid gray;box-sizing: border-box;top: 0;bottom: 0;left: 50%;z-index: -1;}#sk-container-id-12 div.sk-parallel-item {display: flex;flex-direction: column;z-index: 1;position: relative;background-color: white;}#sk-container-id-12 div.sk-parallel-item:first-child::after {align-self: flex-end;width: 50%;}#sk-container-id-12 div.sk-parallel-item:last-child::after {align-self: flex-start;width: 50%;}#sk-container-id-12 div.sk-parallel-item:only-child::after {width: 0;}#sk-container-id-12 div.sk-dashed-wrapped {border: 1px dashed gray;margin: 0 0.4em 0.5em 0.4em;box-sizing: border-box;padding-bottom: 0.4em;background-color: white;}#sk-container-id-12 div.sk-label label {font-family: monospace;font-weight: bold;display: inline-block;line-height: 1.2em;}#sk-container-id-12 div.sk-label-container {text-align: center;}#sk-container-id-12 div.sk-container {/* jupyter's `normalize.less` sets `[hidden] { display: none; }` but bootstrap.min.css set `[hidden] { display: none !important; }` so we also need the `!important` here to be able to override the default hidden behavior on the sphinx rendered scikit-learn.org. See: https://github.com/scikit-learn/scikit-learn/issues/21755 */display: inline-block !important;position: relative;}#sk-container-id-12 div.sk-text-repr-fallback {display: none;}</style><div id=\"sk-container-id-12\" class=\"sk-top-container\"><div class=\"sk-text-repr-fallback\"><pre>MultinomialNB()</pre><b>In a Jupyter environment, please rerun this cell to show the HTML representation or trust the notebook. <br />On GitHub, the HTML representation is unable to render, please try loading this page with nbviewer.org.</b></div><div class=\"sk-container\" hidden><div class=\"sk-item\"><div class=\"sk-estimator sk-toggleable\"><input class=\"sk-toggleable__control sk-hidden--visually\" id=\"sk-estimator-id-12\" type=\"checkbox\" checked><label for=\"sk-estimator-id-12\" class=\"sk-toggleable__label sk-toggleable__label-arrow\">MultinomialNB</label><div class=\"sk-toggleable__content\"><pre>MultinomialNB()</pre></div></div></div></div></div>"
      ],
      "text/plain": [
       "MultinomialNB()"
      ]
     },
     "execution_count": 71,
     "metadata": {},
     "output_type": "execute_result"
    }
   ],
   "source": [
    "nb_model_tg = MultinomialNB()\n",
    "nb_model_tg.fit(X_train_tg, y_train_tg)"
   ]
  },
  {
   "cell_type": "markdown",
   "id": "b492dee8",
   "metadata": {},
   "source": [
    "### Scoring Naive Bayes Model using Trigram Data"
   ]
  },
  {
   "cell_type": "code",
   "execution_count": 72,
   "id": "31544d38",
   "metadata": {},
   "outputs": [
    {
     "name": "stdout",
     "output_type": "stream",
     "text": [
      "NaiveBayes Model Accuracy Score: 0.984121\n",
      "NaiveBayes Model Precision Score: 0.977503\n",
      "NaiveBayes Model Recall Score: 0.983657\n",
      "NaiveBayes Model FScore: 0.980516\n",
      "NaiveBayes Model Confusion Matrix\n",
      "[[15275   237]\n",
      " [  106  5983]]\n"
     ]
    }
   ],
   "source": [
    "y_nb_pred_train_tg = nb_model_tg.predict(X_train_tg)\n",
    "score_model(y_train_tg, y_nb_pred_train_tg, False)"
   ]
  },
  {
   "cell_type": "code",
   "execution_count": 73,
   "id": "f415143a",
   "metadata": {},
   "outputs": [
    {
     "name": "stdout",
     "output_type": "stream",
     "text": [
      "NaiveBayes Model Accuracy Score: 0.816429\n",
      "NaiveBayes Model Precision Score: 0.764842\n",
      "NaiveBayes Model Recall Score: 0.715639\n",
      "NaiveBayes Model FScore: 0.733489\n",
      "NaiveBayes Model Confusion Matrix\n",
      "[[1924  169]\n",
      " [ 345  362]]\n"
     ]
    }
   ],
   "source": [
    "y_nb_pred_test_tg = nb_model_tg.predict(X_test_tg)\n",
    "score_model(y_test_tg, y_nb_pred_test_tg, False)"
   ]
  },
  {
   "cell_type": "code",
   "execution_count": 74,
   "id": "fdfdddd8",
   "metadata": {},
   "outputs": [
    {
     "name": "stdout",
     "output_type": "stream",
     "text": [
      "NaiveBayes Model Accuracy Score: 0.816429\n",
      "NaiveBayes Model Precision Score: 0.764842\n",
      "NaiveBayes Model Recall Score: 0.715639\n",
      "NaiveBayes Model FScore: 0.733489\n",
      "NaiveBayes Model Confusion Matrix\n",
      "[[1924  169]\n",
      " [ 345  362]]\n"
     ]
    }
   ],
   "source": [
    "y_nb_pred_validate_tg = nb_model_tg.predict(X_validate_tg)\n",
    "score_model(y_validate_tg, y_nb_pred_validate_tg, False)"
   ]
  }
 ],
 "metadata": {
  "kernelspec": {
   "display_name": "Python 3.10.6 64-bit",
   "language": "python",
   "name": "python3"
  },
  "language_info": {
   "codemirror_mode": {
    "name": "ipython",
    "version": 3
   },
   "file_extension": ".py",
   "mimetype": "text/x-python",
   "name": "python",
   "nbconvert_exporter": "python",
   "pygments_lexer": "ipython3",
   "version": "3.10.6"
  },
  "vscode": {
   "interpreter": {
    "hash": "369f2c481f4da34e4445cda3fffd2e751bd1c4d706f27375911949ba6bb62e1c"
   }
  }
 },
 "nbformat": 4,
 "nbformat_minor": 5
}
